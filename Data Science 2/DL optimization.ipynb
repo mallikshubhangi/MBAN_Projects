{
  "cells": [
    {
      "cell_type": "markdown",
      "metadata": {
        "id": "view-in-github",
        "colab_type": "text"
      },
      "source": [
        "<a href=\"https://colab.research.google.com/github/mallikshubhangi/shulich_data_science/blob/main/Data%20Science%202/DL%20optimization.ipynb\" target=\"_parent\"><img src=\"https://colab.research.google.com/assets/colab-badge.svg\" alt=\"Open In Colab\"/></a>"
      ]
    },
    {
      "cell_type": "code",
      "execution_count": 1,
      "metadata": {
        "id": "7kRW_UHNyZ2O"
      },
      "outputs": [],
      "source": [
        "import pandas as pd\n",
        "import numpy as np\n",
        "import matplotlib.pyplot as plt\n",
        "import seaborn as sns\n",
        "from sklearn.model_selection import train_test_split, cross_val_score, GridSearchCV, RandomizedSearchCV\n",
        "from sklearn.preprocessing import StandardScaler, OneHotEncoder\n",
        "from sklearn.compose import ColumnTransformer\n",
        "from sklearn.naive_bayes import GaussianNB\n",
        "from sklearn.neighbors import KNeighborsClassifier\n",
        "from sklearn.metrics import confusion_matrix, accuracy_score, precision_score, recall_score, f1_score, roc_curve, auc, precision_recall_curve\n",
        "from sklearn.pipeline import Pipeline\n",
        "from sklearn.linear_model import LogisticRegression\n",
        "from scipy.stats import zscore\n",
        "from scipy.stats import skew, kurtosis\n",
        "from sklearn.svm import SVC\n",
        "from sklearn.decomposition import PCA\n",
        "from sklearn.cluster import KMeans, AgglomerativeClustering, AffinityPropagation, DBSCAN\n",
        "from sklearn.metrics import silhouette_score\n",
        "from sklearn import metrics\n",
        "from scipy.cluster.hierarchy import dendrogram, linkage"
      ]
    },
    {
      "cell_type": "code",
      "execution_count": 2,
      "metadata": {
        "id": "JN6HLyuByZ2S"
      },
      "outputs": [],
      "source": [
        "from sklearn.preprocessing import StandardScaler\n",
        "from sklearn.preprocessing import OneHotEncoder"
      ]
    },
    {
      "cell_type": "code",
      "execution_count": 3,
      "metadata": {
        "id": "JGPFuF6hyZ2U"
      },
      "outputs": [],
      "source": [
        "import tensorflow_datasets as tf"
      ]
    },
    {
      "cell_type": "code",
      "execution_count": 4,
      "metadata": {
        "colab": {
          "base_uri": "https://localhost:8080/",
          "height": 83,
          "referenced_widgets": [
            "e44abd7e57b941d4b9f1cbd3e42d9156",
            "bbe7f4a3d9224f5ea74e670af367d5bb",
            "c3aa014e4e5049bf883ce9bea584e332",
            "0a1aed8a419d4839bd9963738625ffe4",
            "5b966fedee3e434e80a2afa99988d9c7",
            "27a54b0c1c5d4bfc8897427aae475388",
            "476f69a417ff42528b42491cbceb0ee6",
            "bc30b2c81da44ee0aa16124c23a0ac71",
            "82b7c09814214a1dbd1a56bb31df9c1d",
            "d6443b9bddf04a689cc8a66a02676435",
            "b7bb469747c14c6486f51c18dbba7ce3"
          ]
        },
        "id": "Ptbk6KL4yZ2U",
        "outputId": "e78d3958-6ad4-4d84-9230-d1db465bf954"
      },
      "outputs": [
        {
          "output_type": "stream",
          "name": "stdout",
          "text": [
            "Downloading and preparing dataset 11.06 MiB (download: 11.06 MiB, generated: 21.00 MiB, total: 32.06 MiB) to /root/tensorflow_datasets/mnist/3.0.1...\n"
          ]
        },
        {
          "output_type": "display_data",
          "data": {
            "text/plain": [
              "Dl Completed...:   0%|          | 0/5 [00:00<?, ? file/s]"
            ],
            "application/vnd.jupyter.widget-view+json": {
              "version_major": 2,
              "version_minor": 0,
              "model_id": "e44abd7e57b941d4b9f1cbd3e42d9156"
            }
          },
          "metadata": {}
        },
        {
          "output_type": "stream",
          "name": "stdout",
          "text": [
            "Dataset mnist downloaded and prepared to /root/tensorflow_datasets/mnist/3.0.1. Subsequent calls will reuse this data.\n"
          ]
        }
      ],
      "source": [
        "(train, test) = tf.load('mnist',\n",
        "                                split = ['train','test'])"
      ]
    },
    {
      "cell_type": "code",
      "execution_count": 5,
      "metadata": {
        "colab": {
          "base_uri": "https://localhost:8080/"
        },
        "id": "sgDfsyK9yZ2V",
        "outputId": "fb94f3ce-d893-4cd1-ecc5-cd23d404174a"
      },
      "outputs": [
        {
          "output_type": "execute_result",
          "data": {
            "text/plain": [
              "<_PrefetchDataset element_spec={'image': TensorSpec(shape=(28, 28, 1), dtype=tf.uint8, name=None), 'label': TensorSpec(shape=(), dtype=tf.int64, name=None)}>"
            ]
          },
          "metadata": {},
          "execution_count": 5
        }
      ],
      "source": [
        "train"
      ]
    },
    {
      "cell_type": "code",
      "execution_count": 6,
      "metadata": {
        "colab": {
          "base_uri": "https://localhost:8080/"
        },
        "id": "MdZoOZsZyZ2X",
        "outputId": "7a6660dd-f174-4701-a489-36c066074f57"
      },
      "outputs": [
        {
          "output_type": "execute_result",
          "data": {
            "text/plain": [
              "<_PrefetchDataset element_spec={'image': TensorSpec(shape=(28, 28, 1), dtype=tf.uint8, name=None), 'label': TensorSpec(shape=(), dtype=tf.int64, name=None)}>"
            ]
          },
          "metadata": {},
          "execution_count": 6
        }
      ],
      "source": [
        "test"
      ]
    },
    {
      "cell_type": "code",
      "execution_count": 7,
      "metadata": {
        "id": "Xv50nqCjyZ2Y"
      },
      "outputs": [],
      "source": [
        "def load_dataset(train_size, test_size):\n",
        "    train, test = tf.keras.datasets.mnist.load_data()\n",
        "\n",
        "    # take a sample\n",
        "    train_idx = np.random.randint(low=0, high=train[0].shape[0], size=train_size)\n",
        "    test_idx = np.random.randint(low=0, high=test[0].shape[0], size=test_size)\n",
        "    X_train = train[0][train_idx].reshape(-1,28*28)\n",
        "    y_train = train[1][train_idx].reshape(-1,1)\n",
        "    X_test = test[0][test_idx].reshape(-1,28*28)\n",
        "    y_test = test[1][test_idx].reshape(-1,1)\n",
        "    scale = StandardScaler()\n",
        "    X_train = scale.fit_transform(X_train)\n",
        "    X_test = scale.transform(X_test)\n",
        "\n",
        "    OH = OneHotEncoder(categories='auto', sparse=False)\n",
        "    y_train = OH.fit_transform(y_train)\n",
        "    y_test = OH.transform(y_test)\n",
        "    print('X_train:',X_train.shape)\n",
        "    print('y_train:',y_train.shape)\n",
        "    print('X_test:',X_test.shape)\n",
        "    print('y_test:',y_test.shape)\n",
        "    print('Min:', X_train.min())\n",
        "    print('Max:', X_train.max())\n",
        "\n",
        "    return X_train, X_test, y_train, y_test"
      ]
    },
    {
      "cell_type": "code",
      "execution_count": 8,
      "metadata": {
        "id": "beOzIa51yZ2Z"
      },
      "outputs": [],
      "source": [
        "import tensorflow as tf"
      ]
    },
    {
      "cell_type": "code",
      "execution_count": 9,
      "metadata": {
        "id": "3Ge-QrwbyZ2a"
      },
      "outputs": [],
      "source": [
        "import urllib3\n",
        "\n",
        "urllib3.disable_warnings()\n"
      ]
    },
    {
      "cell_type": "code",
      "execution_count": 10,
      "metadata": {
        "colab": {
          "base_uri": "https://localhost:8080/"
        },
        "id": "60VLvMuGyZ2a",
        "outputId": "2675578f-9977-4fb2-a1bc-f59ec518670e"
      },
      "outputs": [
        {
          "output_type": "stream",
          "name": "stdout",
          "text": [
            "Downloading data from https://storage.googleapis.com/tensorflow/tf-keras-datasets/mnist.npz\n",
            "11490434/11490434 [==============================] - 0s 0us/step\n",
            "X_train: (1000, 784)\n",
            "y_train: (1000, 10)\n",
            "X_test: (1000, 784)\n",
            "y_test: (1000, 10)\n",
            "Min: -1.3197704815332454\n",
            "Max: 31.606961258559586\n"
          ]
        },
        {
          "output_type": "stream",
          "name": "stderr",
          "text": [
            "/usr/local/lib/python3.10/dist-packages/sklearn/preprocessing/_encoders.py:868: FutureWarning: `sparse` was renamed to `sparse_output` in version 1.2 and will be removed in 1.4. `sparse_output` is ignored unless you leave `sparse` to its default value.\n",
            "  warnings.warn(\n"
          ]
        }
      ],
      "source": [
        "X_train, X_test, y_train, y_test = load_dataset(1000,1000)"
      ]
    },
    {
      "cell_type": "code",
      "execution_count": 11,
      "metadata": {
        "id": "zO6kccXYyZ2b"
      },
      "outputs": [],
      "source": [
        "import tensorflow as tf"
      ]
    },
    {
      "cell_type": "code",
      "source": [
        "X_train, X_test, y_train, y_test = load_dataset(60000,10000)"
      ],
      "metadata": {
        "colab": {
          "base_uri": "https://localhost:8080/"
        },
        "id": "Eyx0Tp1Hy454",
        "outputId": "c17db207-13f4-4f8d-b677-eba2d918544c"
      },
      "execution_count": 12,
      "outputs": [
        {
          "output_type": "stream",
          "name": "stderr",
          "text": [
            "/usr/local/lib/python3.10/dist-packages/sklearn/preprocessing/_encoders.py:868: FutureWarning: `sparse` was renamed to `sparse_output` in version 1.2 and will be removed in 1.4. `sparse_output` is ignored unless you leave `sparse` to its default value.\n",
            "  warnings.warn(\n"
          ]
        },
        {
          "output_type": "stream",
          "name": "stdout",
          "text": [
            "X_train: (60000, 784)\n",
            "y_train: (60000, 10)\n",
            "X_test: (10000, 784)\n",
            "y_test: (10000, 10)\n",
            "Min: -1.2796819182573704\n",
            "Max: 244.9469330289391\n"
          ]
        }
      ]
    },
    {
      "cell_type": "code",
      "source": [
        "init = tf.initializers.zeros()\n",
        "activate = 'relu'\n",
        "optimizer = tf.keras.optimizers.SGD(learning_rate=0.01)"
      ],
      "metadata": {
        "id": "IwVU4Bsly5g_"
      },
      "execution_count": 13,
      "outputs": []
    },
    {
      "cell_type": "code",
      "source": [
        "def simple_model(initializer, activation='relu'):\n",
        "    return tf.keras.Sequential([layers.Dense(32, activation, input_shape=(784,), kernel_initializer=initializer),\n",
        "                                layers.Dense(32, activation, kernel_initializer=initializer),\n",
        "                                layers.Dense(32, activation, kernel_initializer=initializer),\n",
        "                                layers.Dense(32, activation, kernel_initializer=initializer),\n",
        "                                layers.Dense(10, activation = 'softmax', kernel_initializer=tf.keras.initializers.glorot_normal())\n",
        "\n",
        "\n",
        "\n",
        "    ])"
      ],
      "metadata": {
        "id": "7wD0Abziy8gH"
      },
      "execution_count": 14,
      "outputs": []
    },
    {
      "cell_type": "code",
      "source": [
        "from tensorflow.keras import layers"
      ],
      "metadata": {
        "id": "fOlDn7WXzAC8"
      },
      "execution_count": 15,
      "outputs": []
    },
    {
      "cell_type": "code",
      "source": [
        "model_zeros = simple_model(init, activate)"
      ],
      "metadata": {
        "id": "TISg0CjGzDlq"
      },
      "execution_count": 16,
      "outputs": []
    },
    {
      "cell_type": "code",
      "source": [
        "model_zeros.compile(optimizer=optimizer, loss='categorical_crossentropy', metrics=['accuracy'])\n",
        "model_zeros.fit(X_train, y_train, epochs=10, batch_size=3200, validation_data=(X_test, y_test))"
      ],
      "metadata": {
        "colab": {
          "base_uri": "https://localhost:8080/"
        },
        "id": "z-FHJ4uIzFll",
        "outputId": "c44cd885-2d52-4690-9c00-cab3fcff6cb3"
      },
      "execution_count": 17,
      "outputs": [
        {
          "output_type": "stream",
          "name": "stdout",
          "text": [
            "Epoch 1/10\n",
            "19/19 [==============================] - 5s 105ms/step - loss: 2.3026 - accuracy: 0.1107 - val_loss: 2.3025 - val_accuracy: 0.1164\n",
            "Epoch 2/10\n",
            "19/19 [==============================] - 1s 62ms/step - loss: 2.3025 - accuracy: 0.1116 - val_loss: 2.3025 - val_accuracy: 0.1164\n",
            "Epoch 3/10\n",
            "19/19 [==============================] - 1s 52ms/step - loss: 2.3025 - accuracy: 0.1116 - val_loss: 2.3024 - val_accuracy: 0.1164\n",
            "Epoch 4/10\n",
            "19/19 [==============================] - 1s 61ms/step - loss: 2.3024 - accuracy: 0.1116 - val_loss: 2.3023 - val_accuracy: 0.1164\n",
            "Epoch 5/10\n",
            "19/19 [==============================] - 1s 66ms/step - loss: 2.3024 - accuracy: 0.1116 - val_loss: 2.3023 - val_accuracy: 0.1164\n",
            "Epoch 6/10\n",
            "19/19 [==============================] - 1s 67ms/step - loss: 2.3023 - accuracy: 0.1116 - val_loss: 2.3022 - val_accuracy: 0.1164\n",
            "Epoch 7/10\n",
            "19/19 [==============================] - 1s 47ms/step - loss: 2.3023 - accuracy: 0.1116 - val_loss: 2.3022 - val_accuracy: 0.1164\n",
            "Epoch 8/10\n",
            "19/19 [==============================] - 1s 56ms/step - loss: 2.3023 - accuracy: 0.1116 - val_loss: 2.3021 - val_accuracy: 0.1164\n",
            "Epoch 9/10\n",
            "19/19 [==============================] - 1s 57ms/step - loss: 2.3022 - accuracy: 0.1116 - val_loss: 2.3021 - val_accuracy: 0.1164\n",
            "Epoch 10/10\n",
            "19/19 [==============================] - 1s 45ms/step - loss: 2.3022 - accuracy: 0.1116 - val_loss: 2.3020 - val_accuracy: 0.1164\n"
          ]
        },
        {
          "output_type": "execute_result",
          "data": {
            "text/plain": [
              "<keras.src.callbacks.History at 0x7a7c98c95540>"
            ]
          },
          "metadata": {},
          "execution_count": 17
        }
      ]
    },
    {
      "cell_type": "code",
      "source": [
        "init = tf.initializers.zeros()\n",
        "activate = 'relu'\n",
        "optimizer = tf.keras.optimizers.SGD(learning_rate=0.01)"
      ],
      "metadata": {
        "id": "UqqVRouFzH_z"
      },
      "execution_count": 18,
      "outputs": []
    },
    {
      "cell_type": "code",
      "source": [
        "init = tf.initializers.random_normal()\n",
        "activate = 'relu'\n",
        "optimizer = tf.keras.optimizers.SGD(learning_rate=0.01)\n",
        "model_normal = simple_model(init, activate)\n",
        "model_normal.compile(optimizer=optimizer, loss='categorical_crossentropy', metrics=['accuracy'])\n",
        "model_normal.fit(X_train, y_train, epochs=10, batch_size=3200, validation_data=(X_test, y_test))"
      ],
      "metadata": {
        "colab": {
          "base_uri": "https://localhost:8080/"
        },
        "id": "AVN6hwJHzM7o",
        "outputId": "3db20c20-a9ad-41ee-ee27-8cced529cfad"
      },
      "execution_count": 19,
      "outputs": [
        {
          "output_type": "stream",
          "name": "stderr",
          "text": [
            "/usr/local/lib/python3.10/dist-packages/keras/src/initializers/initializers.py:120: UserWarning: The initializer RandomNormal is unseeded and being called multiple times, which will return identical values each time (even if the initializer is unseeded). Please update your code to provide a seed to the initializer, or avoid using the same initializer instance more than once.\n",
            "  warnings.warn(\n"
          ]
        },
        {
          "output_type": "stream",
          "name": "stdout",
          "text": [
            "Epoch 1/10\n",
            "19/19 [==============================] - 3s 73ms/step - loss: 2.3028 - accuracy: 0.1187 - val_loss: 2.3024 - val_accuracy: 0.1198\n",
            "Epoch 2/10\n",
            "19/19 [==============================] - 1s 41ms/step - loss: 2.3023 - accuracy: 0.1143 - val_loss: 2.3020 - val_accuracy: 0.1181\n",
            "Epoch 3/10\n",
            "19/19 [==============================] - 0s 23ms/step - loss: 2.3019 - accuracy: 0.1135 - val_loss: 2.3015 - val_accuracy: 0.1180\n",
            "Epoch 4/10\n",
            "19/19 [==============================] - 0s 25ms/step - loss: 2.3015 - accuracy: 0.1128 - val_loss: 2.3011 - val_accuracy: 0.1177\n",
            "Epoch 5/10\n",
            "19/19 [==============================] - 0s 25ms/step - loss: 2.3012 - accuracy: 0.1126 - val_loss: 2.3007 - val_accuracy: 0.1174\n",
            "Epoch 6/10\n",
            "19/19 [==============================] - 0s 24ms/step - loss: 2.3008 - accuracy: 0.1123 - val_loss: 2.3003 - val_accuracy: 0.1174\n",
            "Epoch 7/10\n",
            "19/19 [==============================] - 0s 23ms/step - loss: 2.3005 - accuracy: 0.1121 - val_loss: 2.2999 - val_accuracy: 0.1172\n",
            "Epoch 8/10\n",
            "19/19 [==============================] - 0s 24ms/step - loss: 2.3001 - accuracy: 0.1121 - val_loss: 2.2995 - val_accuracy: 0.1171\n",
            "Epoch 9/10\n",
            "19/19 [==============================] - 0s 26ms/step - loss: 2.2998 - accuracy: 0.1120 - val_loss: 2.2991 - val_accuracy: 0.1171\n",
            "Epoch 10/10\n",
            "19/19 [==============================] - 0s 22ms/step - loss: 2.2994 - accuracy: 0.1120 - val_loss: 2.2987 - val_accuracy: 0.1171\n"
          ]
        },
        {
          "output_type": "execute_result",
          "data": {
            "text/plain": [
              "<keras.src.callbacks.History at 0x7a7c883fe4a0>"
            ]
          },
          "metadata": {},
          "execution_count": 19
        }
      ]
    },
    {
      "cell_type": "code",
      "source": [
        "init = tf.initializers.glorot_uniform()\n",
        "activate = 'relu'\n",
        "optimizer = tf.keras.optimizers.SGD(learning_rate=0.01)\n",
        "model_glorotu = simple_model(init, activate)\n",
        "model_glorotu.compile(optimizer=optimizer, loss='categorical_crossentropy', metrics=['accuracy'])\n",
        "model_glorotu.fit(X_train, y_train, epochs=10, batch_size=3200, validation_data=(X_test, y_test))"
      ],
      "metadata": {
        "colab": {
          "base_uri": "https://localhost:8080/"
        },
        "id": "B5xDJNDczNox",
        "outputId": "6bfe181b-ebb7-4b27-88a1-f07c428d50f3"
      },
      "execution_count": 20,
      "outputs": [
        {
          "output_type": "stream",
          "name": "stderr",
          "text": [
            "/usr/local/lib/python3.10/dist-packages/keras/src/initializers/initializers.py:120: UserWarning: The initializer GlorotUniform is unseeded and being called multiple times, which will return identical values each time (even if the initializer is unseeded). Please update your code to provide a seed to the initializer, or avoid using the same initializer instance more than once.\n",
            "  warnings.warn(\n"
          ]
        },
        {
          "output_type": "stream",
          "name": "stdout",
          "text": [
            "Epoch 1/10\n",
            "19/19 [==============================] - 4s 70ms/step - loss: 2.3278 - accuracy: 0.1066 - val_loss: 2.2992 - val_accuracy: 0.1145\n",
            "Epoch 2/10\n",
            "19/19 [==============================] - 1s 37ms/step - loss: 2.2724 - accuracy: 0.1345 - val_loss: 2.2487 - val_accuracy: 0.1514\n",
            "Epoch 3/10\n",
            "19/19 [==============================] - 1s 42ms/step - loss: 2.2228 - accuracy: 0.1762 - val_loss: 2.1988 - val_accuracy: 0.1917\n",
            "Epoch 4/10\n",
            "19/19 [==============================] - 1s 36ms/step - loss: 2.1719 - accuracy: 0.2089 - val_loss: 2.1459 - val_accuracy: 0.2214\n",
            "Epoch 5/10\n",
            "19/19 [==============================] - 1s 32ms/step - loss: 2.1174 - accuracy: 0.2393 - val_loss: 2.0889 - val_accuracy: 0.2542\n",
            "Epoch 6/10\n",
            "19/19 [==============================] - 1s 32ms/step - loss: 2.0584 - accuracy: 0.2706 - val_loss: 2.0273 - val_accuracy: 0.2896\n",
            "Epoch 7/10\n",
            "19/19 [==============================] - 0s 24ms/step - loss: 1.9937 - accuracy: 0.3060 - val_loss: 1.9593 - val_accuracy: 0.3281\n",
            "Epoch 8/10\n",
            "19/19 [==============================] - 0s 24ms/step - loss: 1.9222 - accuracy: 0.3515 - val_loss: 1.8842 - val_accuracy: 0.3793\n",
            "Epoch 9/10\n",
            "19/19 [==============================] - 0s 24ms/step - loss: 1.8433 - accuracy: 0.4044 - val_loss: 1.8015 - val_accuracy: 0.4330\n",
            "Epoch 10/10\n",
            "19/19 [==============================] - 0s 25ms/step - loss: 1.7572 - accuracy: 0.4642 - val_loss: 1.7119 - val_accuracy: 0.5021\n"
          ]
        },
        {
          "output_type": "execute_result",
          "data": {
            "text/plain": [
              "<keras.src.callbacks.History at 0x7a7c99630940>"
            ]
          },
          "metadata": {},
          "execution_count": 20
        }
      ]
    },
    {
      "cell_type": "code",
      "source": [
        "init = tf.initializers.he_uniform()\n",
        "activate = 'relu'\n",
        "optimizer = tf.keras.optimizers.SGD(learning_rate=0.01)\n",
        "model_heu = simple_model(init, activate)\n",
        "model_heu.compile(optimizer=optimizer, loss='categorical_crossentropy', metrics=['accuracy'])\n",
        "model_heu.fit(X_train, y_train, epochs=10, batch_size=3200, validation_data=(X_test, y_test))"
      ],
      "metadata": {
        "colab": {
          "base_uri": "https://localhost:8080/"
        },
        "id": "tcrqsxGQzTWO",
        "outputId": "7773b5c5-58ee-499d-f3da-6c8d15e04d9f"
      },
      "execution_count": 21,
      "outputs": [
        {
          "output_type": "stream",
          "name": "stderr",
          "text": [
            "/usr/local/lib/python3.10/dist-packages/keras/src/initializers/initializers.py:120: UserWarning: The initializer HeUniform is unseeded and being called multiple times, which will return identical values each time (even if the initializer is unseeded). Please update your code to provide a seed to the initializer, or avoid using the same initializer instance more than once.\n",
            "  warnings.warn(\n"
          ]
        },
        {
          "output_type": "stream",
          "name": "stdout",
          "text": [
            "Epoch 1/10\n",
            "19/19 [==============================] - 7s 167ms/step - loss: 2.6432 - accuracy: 0.1602 - val_loss: 2.3535 - val_accuracy: 0.2001\n",
            "Epoch 2/10\n",
            "19/19 [==============================] - 1s 56ms/step - loss: 2.2489 - accuracy: 0.2254 - val_loss: 2.1338 - val_accuracy: 0.2600\n",
            "Epoch 3/10\n",
            "19/19 [==============================] - 1s 49ms/step - loss: 2.0695 - accuracy: 0.2813 - val_loss: 1.9774 - val_accuracy: 0.3144\n",
            "Epoch 4/10\n",
            "19/19 [==============================] - 1s 54ms/step - loss: 1.9273 - accuracy: 0.3409 - val_loss: 1.8379 - val_accuracy: 0.3803\n",
            "Epoch 5/10\n",
            "19/19 [==============================] - 1s 41ms/step - loss: 1.7928 - accuracy: 0.4033 - val_loss: 1.6998 - val_accuracy: 0.4380\n",
            "Epoch 6/10\n",
            "19/19 [==============================] - 1s 45ms/step - loss: 1.6564 - accuracy: 0.4586 - val_loss: 1.5634 - val_accuracy: 0.4841\n",
            "Epoch 7/10\n",
            "19/19 [==============================] - 0s 25ms/step - loss: 1.5217 - accuracy: 0.5047 - val_loss: 1.4324 - val_accuracy: 0.5253\n",
            "Epoch 8/10\n",
            "19/19 [==============================] - 0s 24ms/step - loss: 1.3952 - accuracy: 0.5508 - val_loss: 1.3114 - val_accuracy: 0.5760\n",
            "Epoch 9/10\n",
            "19/19 [==============================] - 0s 25ms/step - loss: 1.2786 - accuracy: 0.5976 - val_loss: 1.2012 - val_accuracy: 0.6266\n",
            "Epoch 10/10\n",
            "19/19 [==============================] - 1s 28ms/step - loss: 1.1730 - accuracy: 0.6429 - val_loss: 1.1031 - val_accuracy: 0.6722\n"
          ]
        },
        {
          "output_type": "execute_result",
          "data": {
            "text/plain": [
              "<keras.src.callbacks.History at 0x7a7c9937bb20>"
            ]
          },
          "metadata": {},
          "execution_count": 21
        }
      ]
    },
    {
      "cell_type": "code",
      "source": [
        "for i in [model_heu, model_normal, model_glorotu, model_zeros]:\n",
        "    plt.plot(i.history.history['val_accuracy'], label=i.get_config()['layers'][1]['config']['kernel_initializer']['class_name'])\n",
        "\n",
        "plt.legend()\n",
        "plt.xlabel('Epoch')\n",
        "plt.ylabel('Validation Accuracy')"
      ],
      "metadata": {
        "colab": {
          "base_uri": "https://localhost:8080/",
          "height": 472
        },
        "id": "LgpOYaJV2e3K",
        "outputId": "177246a9-102d-4b1c-c2e0-81458e16a50d"
      },
      "execution_count": 23,
      "outputs": [
        {
          "output_type": "execute_result",
          "data": {
            "text/plain": [
              "Text(0, 0.5, 'Validation Accuracy')"
            ]
          },
          "metadata": {},
          "execution_count": 23
        },
        {
          "output_type": "display_data",
          "data": {
            "text/plain": [
              "<Figure size 640x480 with 1 Axes>"
            ],
            "image/png": "[encoded data removed]"
          },
          "metadata": {}
        }
      ]
    },
    {
      "cell_type": "code",
      "source": [
        "def simple_model_bn(initializer = 'he_uniform', activation='relu'):\n",
        "    return tf.keras.Sequential([layers.Dense(32, activation, input_shape=(784,), kernel_initializer=initializer),\n",
        "                                layers.BatchNormalization(trainable=True, scale=True, center=True),\n",
        "                                layers.Dense(32, activation, kernel_initializer=initializer),\n",
        "                                layers.BatchNormalization(trainable=True, scale=True, center=True),\n",
        "                                layers.Dense(32, activation, kernel_initializer=initializer),\n",
        "                                layers.BatchNormalization(trainable=True, scale=True, center=True),\n",
        "                                layers.Dense(32, activation, kernel_initializer=initializer),\n",
        "                                layers.BatchNormalization(trainable=True, scale=True, center=True),\n",
        "                                layers.Dense(10, activation = 'softmax', kernel_initializer=tf.keras.initializers.glorot_normal())\n",
        "\n",
        "\n",
        "\n",
        "    ])"
      ],
      "metadata": {
        "id": "A8SMOyso2ly7"
      },
      "execution_count": 24,
      "outputs": []
    },
    {
      "cell_type": "code",
      "source": [
        "simple_model_bn().summary()"
      ],
      "metadata": {
        "colab": {
          "base_uri": "https://localhost:8080/"
        },
        "id": "yaTvHFa53s4p",
        "outputId": "6d31e4f3-5f0c-401d-e7f4-576dd37ac70e"
      },
      "execution_count": 25,
      "outputs": [
        {
          "output_type": "stream",
          "name": "stdout",
          "text": [
            "Model: \"sequential_4\"\n",
            "_________________________________________________________________\n",
            " Layer (type)                Output Shape              Param #   \n",
            "=================================================================\n",
            " dense_20 (Dense)            (None, 32)                25120     \n",
            "                                                                 \n",
            " batch_normalization (Batch  (None, 32)                128       \n",
            " Normalization)                                                  \n",
            "                                                                 \n",
            " dense_21 (Dense)            (None, 32)                1056      \n",
            "                                                                 \n",
            " batch_normalization_1 (Bat  (None, 32)                128       \n",
            " chNormalization)                                                \n",
            "                                                                 \n",
            " dense_22 (Dense)            (None, 32)                1056      \n",
            "                                                                 \n",
            " batch_normalization_2 (Bat  (None, 32)                128       \n",
            " chNormalization)                                                \n",
            "                                                                 \n",
            " dense_23 (Dense)            (None, 32)                1056      \n",
            "                                                                 \n",
            " batch_normalization_3 (Bat  (None, 32)                128       \n",
            " chNormalization)                                                \n",
            "                                                                 \n",
            " dense_24 (Dense)            (None, 10)                330       \n",
            "                                                                 \n",
            "=================================================================\n",
            "Total params: 29130 (113.79 KB)\n",
            "Trainable params: 28874 (112.79 KB)\n",
            "Non-trainable params: 256 (1.00 KB)\n",
            "_________________________________________________________________\n"
          ]
        }
      ]
    },
    {
      "cell_type": "code",
      "source": [
        "init = tf.keras.initializers.random_normal()\n",
        "activate = 'relu'\n",
        "\n",
        "optimizer = tf.keras.optimizers.SGD(0.01)\n",
        "model_bn = simple_model_bn(init, activate)\n",
        "model_bn.compile(optimizer=optimizer, loss='categorical_crossentropy', metrics=['accuracy'])\n",
        "model_bn.fit(X_train, y_train, epochs=10, batch_size=3200, validation_data = (X_test, y_test))"
      ],
      "metadata": {
        "colab": {
          "base_uri": "https://localhost:8080/"
        },
        "id": "nBI_C4wL38xm",
        "outputId": "77e3a9d0-8d5c-40d9-d160-d24a174d6154"
      },
      "execution_count": 26,
      "outputs": [
        {
          "output_type": "stream",
          "name": "stderr",
          "text": [
            "/usr/local/lib/python3.10/dist-packages/keras/src/initializers/initializers.py:120: UserWarning: The initializer RandomNormal is unseeded and being called multiple times, which will return identical values each time (even if the initializer is unseeded). Please update your code to provide a seed to the initializer, or avoid using the same initializer instance more than once.\n",
            "  warnings.warn(\n"
          ]
        },
        {
          "output_type": "stream",
          "name": "stdout",
          "text": [
            "Epoch 1/10\n",
            "19/19 [==============================] - 4s 52ms/step - loss: 2.0562 - accuracy: 0.3330 - val_loss: 2.2931 - val_accuracy: 0.2386\n",
            "Epoch 2/10\n",
            "19/19 [==============================] - 1s 32ms/step - loss: 1.3922 - accuracy: 0.5576 - val_loss: 2.2802 - val_accuracy: 0.2755\n",
            "Epoch 3/10\n",
            "19/19 [==============================] - 1s 31ms/step - loss: 1.1275 - accuracy: 0.6518 - val_loss: 2.2631 - val_accuracy: 0.2892\n",
            "Epoch 4/10\n",
            "19/19 [==============================] - 1s 35ms/step - loss: 0.9577 - accuracy: 0.7128 - val_loss: 2.2398 - val_accuracy: 0.3016\n",
            "Epoch 5/10\n",
            "19/19 [==============================] - 1s 37ms/step - loss: 0.8368 - accuracy: 0.7541 - val_loss: 2.2084 - val_accuracy: 0.3226\n",
            "Epoch 6/10\n",
            "19/19 [==============================] - 1s 37ms/step - loss: 0.7456 - accuracy: 0.7842 - val_loss: 2.1672 - val_accuracy: 0.3567\n",
            "Epoch 7/10\n",
            "19/19 [==============================] - 1s 50ms/step - loss: 0.6762 - accuracy: 0.8048 - val_loss: 2.1144 - val_accuracy: 0.4133\n",
            "Epoch 8/10\n",
            "19/19 [==============================] - 1s 48ms/step - loss: 0.6223 - accuracy: 0.8215 - val_loss: 2.0475 - val_accuracy: 0.5186\n",
            "Epoch 9/10\n",
            "19/19 [==============================] - 1s 56ms/step - loss: 0.5786 - accuracy: 0.8354 - val_loss: 1.9663 - val_accuracy: 0.6053\n",
            "Epoch 10/10\n",
            "19/19 [==============================] - 1s 36ms/step - loss: 0.5420 - accuracy: 0.8468 - val_loss: 1.8692 - val_accuracy: 0.6733\n"
          ]
        },
        {
          "output_type": "execute_result",
          "data": {
            "text/plain": [
              "<keras.src.callbacks.History at 0x7a7c8986d7b0>"
            ]
          },
          "metadata": {},
          "execution_count": 26
        }
      ]
    },
    {
      "cell_type": "code",
      "source": [],
      "metadata": {
        "id": "_chx-lvK4W3y"
      },
      "execution_count": null,
      "outputs": []
    }
  ],
  "metadata": {
    "kernelspec": {
      "display_name": "Python 3",
      "language": "python",
      "name": "python3"
    },
    "language_info": {
      "codemirror_mode": {
        "name": "ipython",
        "version": 3
      },
      "file_extension": ".py",
      "mimetype": "text/x-python",
      "name": "python",
      "nbconvert_exporter": "python",
      "pygments_lexer": "ipython3",
      "version": "3.11.3"
    },
    "orig_nbformat": 4,
    "colab": {
      "provenance": [],
      "include_colab_link": true
    },
    "widgets": {
      "application/vnd.jupyter.widget-state+json": {
        "e44abd7e57b941d4b9f1cbd3e42d9156": {
          "model_module": "@jupyter-widgets/controls",
          "model_name": "HBoxModel",
          "model_module_version": "1.5.0",
          "state": {
            "_dom_classes": [],
            "_model_module": "@jupyter-widgets/controls",
            "_model_module_version": "1.5.0",
            "_model_name": "HBoxModel",
            "_view_count": null,
            "_view_module": "@jupyter-widgets/controls",
            "_view_module_version": "1.5.0",
            "_view_name": "HBoxView",
            "box_style": "",
            "children": [
              "IPY_MODEL_bbe7f4a3d9224f5ea74e670af367d5bb",
              "IPY_MODEL_c3aa014e4e5049bf883ce9bea584e332",
              "IPY_MODEL_0a1aed8a419d4839bd9963738625ffe4"
            ],
            "layout": "IPY_MODEL_5b966fedee3e434e80a2afa99988d9c7"
          }
        },
        "bbe7f4a3d9224f5ea74e670af367d5bb": {
          "model_module": "@jupyter-widgets/controls",
          "model_name": "HTMLModel",
          "model_module_version": "1.5.0",
          "state": {
            "_dom_classes": [],
            "_model_module": "@jupyter-widgets/controls",
            "_model_module_version": "1.5.0",
            "_model_name": "HTMLModel",
            "_view_count": null,
            "_view_module": "@jupyter-widgets/controls",
            "_view_module_version": "1.5.0",
            "_view_name": "HTMLView",
            "description": "",
            "description_tooltip": null,
            "layout": "IPY_MODEL_27a54b0c1c5d4bfc8897427aae475388",
            "placeholder": "​",
            "style": "IPY_MODEL_476f69a417ff42528b42491cbceb0ee6",
            "value": "Dl Completed...: 100%"
          }
        },
        "c3aa014e4e5049bf883ce9bea584e332": {
          "model_module": "@jupyter-widgets/controls",
          "model_name": "FloatProgressModel",
          "model_module_version": "1.5.0",
          "state": {
            "_dom_classes": [],
            "_model_module": "@jupyter-widgets/controls",
            "_model_module_version": "1.5.0",
            "_model_name": "FloatProgressModel",
            "_view_count": null,
            "_view_module": "@jupyter-widgets/controls",
            "_view_module_version": "1.5.0",
            "_view_name": "ProgressView",
            "bar_style": "success",
            "description": "",
            "description_tooltip": null,
            "layout": "IPY_MODEL_bc30b2c81da44ee0aa16124c23a0ac71",
            "max": 5,
            "min": 0,
            "orientation": "horizontal",
            "style": "IPY_MODEL_82b7c09814214a1dbd1a56bb31df9c1d",
            "value": 5
          }
        },
        "0a1aed8a419d4839bd9963738625ffe4": {
          "model_module": "@jupyter-widgets/controls",
          "model_name": "HTMLModel",
          "model_module_version": "1.5.0",
          "state": {
            "_dom_classes": [],
            "_model_module": "@jupyter-widgets/controls",
            "_model_module_version": "1.5.0",
            "_model_name": "HTMLModel",
            "_view_count": null,
            "_view_module": "@jupyter-widgets/controls",
            "_view_module_version": "1.5.0",
            "_view_name": "HTMLView",
            "description": "",
            "description_tooltip": null,
            "layout": "IPY_MODEL_d6443b9bddf04a689cc8a66a02676435",
            "placeholder": "​",
            "style": "IPY_MODEL_b7bb469747c14c6486f51c18dbba7ce3",
            "value": " 5/5 [00:00&lt;00:00, 11.28 file/s]"
          }
        },
        "5b966fedee3e434e80a2afa99988d9c7": {
          "model_module": "@jupyter-widgets/base",
          "model_name": "LayoutModel",
          "model_module_version": "1.2.0",
          "state": {
            "_model_module": "@jupyter-widgets/base",
            "_model_module_version": "1.2.0",
            "_model_name": "LayoutModel",
            "_view_count": null,
            "_view_module": "@jupyter-widgets/base",
            "_view_module_version": "1.2.0",
            "_view_name": "LayoutView",
            "align_content": null,
            "align_items": null,
            "align_self": null,
            "border": null,
            "bottom": null,
            "display": null,
            "flex": null,
            "flex_flow": null,
            "grid_area": null,
            "grid_auto_columns": null,
            "grid_auto_flow": null,
            "grid_auto_rows": null,
            "grid_column": null,
            "grid_gap": null,
            "grid_row": null,
            "grid_template_areas": null,
            "grid_template_columns": null,
            "grid_template_rows": null,
            "height": null,
            "justify_content": null,
            "justify_items": null,
            "left": null,
            "margin": null,
            "max_height": null,
            "max_width": null,
            "min_height": null,
            "min_width": null,
            "object_fit": null,
            "object_position": null,
            "order": null,
            "overflow": null,
            "overflow_x": null,
            "overflow_y": null,
            "padding": null,
            "right": null,
            "top": null,
            "visibility": null,
            "width": null
          }
        },
        "27a54b0c1c5d4bfc8897427aae475388": {
          "model_module": "@jupyter-widgets/base",
          "model_name": "LayoutModel",
          "model_module_version": "1.2.0",
          "state": {
            "_model_module": "@jupyter-widgets/base",
            "_model_module_version": "1.2.0",
            "_model_name": "LayoutModel",
            "_view_count": null,
            "_view_module": "@jupyter-widgets/base",
            "_view_module_version": "1.2.0",
            "_view_name": "LayoutView",
            "align_content": null,
            "align_items": null,
            "align_self": null,
            "border": null,
            "bottom": null,
            "display": null,
            "flex": null,
            "flex_flow": null,
            "grid_area": null,
            "grid_auto_columns": null,
            "grid_auto_flow": null,
            "grid_auto_rows": null,
            "grid_column": null,
            "grid_gap": null,
            "grid_row": null,
            "grid_template_areas": null,
            "grid_template_columns": null,
            "grid_template_rows": null,
            "height": null,
            "justify_content": null,
            "justify_items": null,
            "left": null,
            "margin": null,
            "max_height": null,
            "max_width": null,
            "min_height": null,
            "min_width": null,
            "object_fit": null,
            "object_position": null,
            "order": null,
            "overflow": null,
            "overflow_x": null,
            "overflow_y": null,
            "padding": null,
            "right": null,
            "top": null,
            "visibility": null,
            "width": null
          }
        },
        "476f69a417ff42528b42491cbceb0ee6": {
          "model_module": "@jupyter-widgets/controls",
          "model_name": "DescriptionStyleModel",
          "model_module_version": "1.5.0",
          "state": {
            "_model_module": "@jupyter-widgets/controls",
            "_model_module_version": "1.5.0",
            "_model_name": "DescriptionStyleModel",
            "_view_count": null,
            "_view_module": "@jupyter-widgets/base",
            "_view_module_version": "1.2.0",
            "_view_name": "StyleView",
            "description_width": ""
          }
        },
        "bc30b2c81da44ee0aa16124c23a0ac71": {
          "model_module": "@jupyter-widgets/base",
          "model_name": "LayoutModel",
          "model_module_version": "1.2.0",
          "state": {
            "_model_module": "@jupyter-widgets/base",
            "_model_module_version": "1.2.0",
            "_model_name": "LayoutModel",
            "_view_count": null,
            "_view_module": "@jupyter-widgets/base",
            "_view_module_version": "1.2.0",
            "_view_name": "LayoutView",
            "align_content": null,
            "align_items": null,
            "align_self": null,
            "border": null,
            "bottom": null,
            "display": null,
            "flex": null,
            "flex_flow": null,
            "grid_area": null,
            "grid_auto_columns": null,
            "grid_auto_flow": null,
            "grid_auto_rows": null,
            "grid_column": null,
            "grid_gap": null,
            "grid_row": null,
            "grid_template_areas": null,
            "grid_template_columns": null,
            "grid_template_rows": null,
            "height": null,
            "justify_content": null,
            "justify_items": null,
            "left": null,
            "margin": null,
            "max_height": null,
            "max_width": null,
            "min_height": null,
            "min_width": null,
            "object_fit": null,
            "object_position": null,
            "order": null,
            "overflow": null,
            "overflow_x": null,
            "overflow_y": null,
            "padding": null,
            "right": null,
            "top": null,
            "visibility": null,
            "width": null
          }
        },
        "82b7c09814214a1dbd1a56bb31df9c1d": {
          "model_module": "@jupyter-widgets/controls",
          "model_name": "ProgressStyleModel",
          "model_module_version": "1.5.0",
          "state": {
            "_model_module": "@jupyter-widgets/controls",
            "_model_module_version": "1.5.0",
            "_model_name": "ProgressStyleModel",
            "_view_count": null,
            "_view_module": "@jupyter-widgets/base",
            "_view_module_version": "1.2.0",
            "_view_name": "StyleView",
            "bar_color": null,
            "description_width": ""
          }
        },
        "d6443b9bddf04a689cc8a66a02676435": {
          "model_module": "@jupyter-widgets/base",
          "model_name": "LayoutModel",
          "model_module_version": "1.2.0",
          "state": {
            "_model_module": "@jupyter-widgets/base",
            "_model_module_version": "1.2.0",
            "_model_name": "LayoutModel",
            "_view_count": null,
            "_view_module": "@jupyter-widgets/base",
            "_view_module_version": "1.2.0",
            "_view_name": "LayoutView",
            "align_content": null,
            "align_items": null,
            "align_self": null,
            "border": null,
            "bottom": null,
            "display": null,
            "flex": null,
            "flex_flow": null,
            "grid_area": null,
            "grid_auto_columns": null,
            "grid_auto_flow": null,
            "grid_auto_rows": null,
            "grid_column": null,
            "grid_gap": null,
            "grid_row": null,
            "grid_template_areas": null,
            "grid_template_columns": null,
            "grid_template_rows": null,
            "height": null,
            "justify_content": null,
            "justify_items": null,
            "left": null,
            "margin": null,
            "max_height": null,
            "max_width": null,
            "min_height": null,
            "min_width": null,
            "object_fit": null,
            "object_position": null,
            "order": null,
            "overflow": null,
            "overflow_x": null,
            "overflow_y": null,
            "padding": null,
            "right": null,
            "top": null,
            "visibility": null,
            "width": null
          }
        },
        "b7bb469747c14c6486f51c18dbba7ce3": {
          "model_module": "@jupyter-widgets/controls",
          "model_name": "DescriptionStyleModel",
          "model_module_version": "1.5.0",
          "state": {
            "_model_module": "@jupyter-widgets/controls",
            "_model_module_version": "1.5.0",
            "_model_name": "DescriptionStyleModel",
            "_view_count": null,
            "_view_module": "@jupyter-widgets/base",
            "_view_module_version": "1.2.0",
            "_view_name": "StyleView",
            "description_width": ""
          }
        }
      }
    }
  },
  "nbformat": 4,
  "nbformat_minor": 0
}