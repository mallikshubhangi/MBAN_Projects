{
 "cells": [
  {
   "attachments": {},
   "cell_type": "markdown",
   "metadata": {},
   "source": [
    "The first step would be to import all the relevant packages"
   ]
  },
  {
   "cell_type": "code",
   "execution_count": 58,
   "metadata": {},
   "outputs": [],
   "source": [
    "import pandas as pd\n",
    "import seaborn as sns\n",
    "import matplotlib.pyplot as plt"
   ]
  },
  {
   "attachments": {},
   "cell_type": "markdown",
   "metadata": {},
   "source": [
    "Now, I will read the csv file to a dataframe called df"
   ]
  },
  {
   "cell_type": "code",
   "execution_count": 3,
   "metadata": {},
   "outputs": [],
   "source": [
    "df = pd.read_csv('/Users/shubhangimallik/Downloads/midterm_data (1).csv')"
   ]
  },
  {
   "attachments": {},
   "cell_type": "markdown",
   "metadata": {},
   "source": [
    "I will use the head function to quickly take a look at the data"
   ]
  },
  {
   "cell_type": "code",
   "execution_count": 4,
   "metadata": {},
   "outputs": [
    {
     "data": {
      "text/html": [
       "<div>\n",
       "<style scoped>\n",
       "    .dataframe tbody tr th:only-of-type {\n",
       "        vertical-align: middle;\n",
       "    }\n",
       "\n",
       "    .dataframe tbody tr th {\n",
       "        vertical-align: top;\n",
       "    }\n",
       "\n",
       "    .dataframe thead th {\n",
       "        text-align: right;\n",
       "    }\n",
       "</style>\n",
       "<table border=\"1\" class=\"dataframe\">\n",
       "  <thead>\n",
       "    <tr style=\"text-align: right;\">\n",
       "      <th></th>\n",
       "      <th>userID</th>\n",
       "      <th>age</th>\n",
       "      <th>sessions</th>\n",
       "      <th>time_spent</th>\n",
       "      <th>pages_visited</th>\n",
       "      <th>cart_items</th>\n",
       "      <th>cart_value</th>\n",
       "      <th>checkout_status</th>\n",
       "      <th>device</th>\n",
       "      <th>location</th>\n",
       "    </tr>\n",
       "  </thead>\n",
       "  <tbody>\n",
       "    <tr>\n",
       "      <th>0</th>\n",
       "      <td>1</td>\n",
       "      <td>62</td>\n",
       "      <td>3</td>\n",
       "      <td>13.295129</td>\n",
       "      <td>2</td>\n",
       "      <td>20</td>\n",
       "      <td>199.21</td>\n",
       "      <td>0</td>\n",
       "      <td>Desktop</td>\n",
       "      <td>Location 1</td>\n",
       "    </tr>\n",
       "    <tr>\n",
       "      <th>1</th>\n",
       "      <td>2</td>\n",
       "      <td>65</td>\n",
       "      <td>2</td>\n",
       "      <td>21.686405</td>\n",
       "      <td>3</td>\n",
       "      <td>21</td>\n",
       "      <td>294.82</td>\n",
       "      <td>0</td>\n",
       "      <td>Desktop</td>\n",
       "      <td>Location 3</td>\n",
       "    </tr>\n",
       "    <tr>\n",
       "      <th>2</th>\n",
       "      <td>3</td>\n",
       "      <td>18</td>\n",
       "      <td>7</td>\n",
       "      <td>17.135220</td>\n",
       "      <td>4</td>\n",
       "      <td>23</td>\n",
       "      <td>240.87</td>\n",
       "      <td>0</td>\n",
       "      <td>Desktop</td>\n",
       "      <td>Location 4</td>\n",
       "    </tr>\n",
       "    <tr>\n",
       "      <th>3</th>\n",
       "      <td>4</td>\n",
       "      <td>21</td>\n",
       "      <td>9</td>\n",
       "      <td>29.589311</td>\n",
       "      <td>8</td>\n",
       "      <td>16</td>\n",
       "      <td>183.78</td>\n",
       "      <td>1</td>\n",
       "      <td>Desktop</td>\n",
       "      <td>Location 2</td>\n",
       "    </tr>\n",
       "    <tr>\n",
       "      <th>4</th>\n",
       "      <td>5</td>\n",
       "      <td>21</td>\n",
       "      <td>3</td>\n",
       "      <td>25.948584</td>\n",
       "      <td>4</td>\n",
       "      <td>10</td>\n",
       "      <td>59.51</td>\n",
       "      <td>1</td>\n",
       "      <td>Tablet</td>\n",
       "      <td>Location 4</td>\n",
       "    </tr>\n",
       "  </tbody>\n",
       "</table>\n",
       "</div>"
      ],
      "text/plain": [
       "   userID  age  sessions  time_spent  pages_visited  cart_items  cart_value   \n",
       "0       1   62         3   13.295129              2          20      199.21  \\\n",
       "1       2   65         2   21.686405              3          21      294.82   \n",
       "2       3   18         7   17.135220              4          23      240.87   \n",
       "3       4   21         9   29.589311              8          16      183.78   \n",
       "4       5   21         3   25.948584              4          10       59.51   \n",
       "\n",
       "   checkout_status   device    location  \n",
       "0                0  Desktop  Location 1  \n",
       "1                0  Desktop  Location 3  \n",
       "2                0  Desktop  Location 4  \n",
       "3                1  Desktop  Location 2  \n",
       "4                1   Tablet  Location 4  "
      ]
     },
     "execution_count": 4,
     "metadata": {},
     "output_type": "execute_result"
    }
   ],
   "source": [
    "df.head()"
   ]
  },
  {
   "attachments": {},
   "cell_type": "markdown",
   "metadata": {},
   "source": [
    "In the above set we can see that 'device' and 'location' are the two categorical columns and the rest are numeric"
   ]
  },
  {
   "attachments": {},
   "cell_type": "markdown",
   "metadata": {},
   "source": [
    "Now, I will use the info function to see if there is any missing data or not"
   ]
  },
  {
   "cell_type": "code",
   "execution_count": 5,
   "metadata": {},
   "outputs": [
    {
     "name": "stdout",
     "output_type": "stream",
     "text": [
      "<class 'pandas.core.frame.DataFrame'>\n",
      "RangeIndex: 5000 entries, 0 to 4999\n",
      "Data columns (total 10 columns):\n",
      " #   Column           Non-Null Count  Dtype  \n",
      "---  ------           --------------  -----  \n",
      " 0   userID           5000 non-null   int64  \n",
      " 1   age              5000 non-null   int64  \n",
      " 2   sessions         5000 non-null   int64  \n",
      " 3   time_spent       5000 non-null   float64\n",
      " 4   pages_visited    5000 non-null   int64  \n",
      " 5   cart_items       5000 non-null   int64  \n",
      " 6   cart_value       5000 non-null   float64\n",
      " 7   checkout_status  5000 non-null   int64  \n",
      " 8   device           4900 non-null   object \n",
      " 9   location         4970 non-null   object \n",
      "dtypes: float64(2), int64(6), object(2)\n",
      "memory usage: 390.8+ KB\n"
     ]
    }
   ],
   "source": [
    "df.info()"
   ]
  },
  {
   "attachments": {},
   "cell_type": "markdown",
   "metadata": {},
   "source": [
    "Above, we can see that apart from device and location, the rest of the columns are full\n",
    "\n",
    "We can see that out of 5000 entries,\n",
    "\n",
    "device has (5000-4900) = 100 missing data points, which is 2% missing data\n",
    " \n",
    "location has (5000-4970) = 30 missing data points, which is 0.6% missing data\n"
   ]
  },
  {
   "attachments": {},
   "cell_type": "markdown",
   "metadata": {},
   "source": [
    "There are three ways to approach this missing data situation. \n",
    "\n",
    "1. Delete all missing data\n",
    "2. Impute the missing data with mode since both the columns, device and location have categorical values\n",
    "3. Impute the missing data with 'other' or 'unknown'. "
   ]
  },
  {
   "cell_type": "code",
   "execution_count": 13,
   "metadata": {},
   "outputs": [
    {
     "data": {
      "text/html": [
       "<div>\n",
       "<style scoped>\n",
       "    .dataframe tbody tr th:only-of-type {\n",
       "        vertical-align: middle;\n",
       "    }\n",
       "\n",
       "    .dataframe tbody tr th {\n",
       "        vertical-align: top;\n",
       "    }\n",
       "\n",
       "    .dataframe thead th {\n",
       "        text-align: right;\n",
       "    }\n",
       "</style>\n",
       "<table border=\"1\" class=\"dataframe\">\n",
       "  <thead>\n",
       "    <tr style=\"text-align: right;\">\n",
       "      <th></th>\n",
       "      <th>userID</th>\n",
       "      <th>age</th>\n",
       "      <th>sessions</th>\n",
       "      <th>time_spent</th>\n",
       "      <th>pages_visited</th>\n",
       "      <th>cart_items</th>\n",
       "      <th>cart_value</th>\n",
       "      <th>checkout_status</th>\n",
       "      <th>device</th>\n",
       "      <th>location</th>\n",
       "    </tr>\n",
       "  </thead>\n",
       "  <tbody>\n",
       "    <tr>\n",
       "      <th>count</th>\n",
       "      <td>5000.000000</td>\n",
       "      <td>5000.000000</td>\n",
       "      <td>5000.000000</td>\n",
       "      <td>5000.000000</td>\n",
       "      <td>5000.000000</td>\n",
       "      <td>5000.000000</td>\n",
       "      <td>5000.000000</td>\n",
       "      <td>5000.000000</td>\n",
       "      <td>4900</td>\n",
       "      <td>4970</td>\n",
       "    </tr>\n",
       "    <tr>\n",
       "      <th>unique</th>\n",
       "      <td>NaN</td>\n",
       "      <td>NaN</td>\n",
       "      <td>NaN</td>\n",
       "      <td>NaN</td>\n",
       "      <td>NaN</td>\n",
       "      <td>NaN</td>\n",
       "      <td>NaN</td>\n",
       "      <td>NaN</td>\n",
       "      <td>3</td>\n",
       "      <td>5</td>\n",
       "    </tr>\n",
       "    <tr>\n",
       "      <th>top</th>\n",
       "      <td>NaN</td>\n",
       "      <td>NaN</td>\n",
       "      <td>NaN</td>\n",
       "      <td>NaN</td>\n",
       "      <td>NaN</td>\n",
       "      <td>NaN</td>\n",
       "      <td>NaN</td>\n",
       "      <td>NaN</td>\n",
       "      <td>Desktop</td>\n",
       "      <td>Location 4</td>\n",
       "    </tr>\n",
       "    <tr>\n",
       "      <th>freq</th>\n",
       "      <td>NaN</td>\n",
       "      <td>NaN</td>\n",
       "      <td>NaN</td>\n",
       "      <td>NaN</td>\n",
       "      <td>NaN</td>\n",
       "      <td>NaN</td>\n",
       "      <td>NaN</td>\n",
       "      <td>NaN</td>\n",
       "      <td>2538</td>\n",
       "      <td>1056</td>\n",
       "    </tr>\n",
       "    <tr>\n",
       "      <th>mean</th>\n",
       "      <td>2500.500000</td>\n",
       "      <td>41.538200</td>\n",
       "      <td>5.027200</td>\n",
       "      <td>25.158496</td>\n",
       "      <td>5.774400</td>\n",
       "      <td>14.966400</td>\n",
       "      <td>149.443146</td>\n",
       "      <td>0.272400</td>\n",
       "      <td>NaN</td>\n",
       "      <td>NaN</td>\n",
       "    </tr>\n",
       "    <tr>\n",
       "      <th>std</th>\n",
       "      <td>1443.520003</td>\n",
       "      <td>14.042734</td>\n",
       "      <td>2.594958</td>\n",
       "      <td>9.825536</td>\n",
       "      <td>2.570842</td>\n",
       "      <td>6.046336</td>\n",
       "      <td>68.711683</td>\n",
       "      <td>0.445239</td>\n",
       "      <td>NaN</td>\n",
       "      <td>NaN</td>\n",
       "    </tr>\n",
       "    <tr>\n",
       "      <th>min</th>\n",
       "      <td>1.000000</td>\n",
       "      <td>18.000000</td>\n",
       "      <td>1.000000</td>\n",
       "      <td>1.000000</td>\n",
       "      <td>1.000000</td>\n",
       "      <td>5.000000</td>\n",
       "      <td>20.410000</td>\n",
       "      <td>0.000000</td>\n",
       "      <td>NaN</td>\n",
       "      <td>NaN</td>\n",
       "    </tr>\n",
       "    <tr>\n",
       "      <th>25%</th>\n",
       "      <td>1250.750000</td>\n",
       "      <td>29.000000</td>\n",
       "      <td>3.000000</td>\n",
       "      <td>18.268862</td>\n",
       "      <td>4.000000</td>\n",
       "      <td>10.000000</td>\n",
       "      <td>92.482500</td>\n",
       "      <td>0.000000</td>\n",
       "      <td>NaN</td>\n",
       "      <td>NaN</td>\n",
       "    </tr>\n",
       "    <tr>\n",
       "      <th>50%</th>\n",
       "      <td>2500.500000</td>\n",
       "      <td>42.000000</td>\n",
       "      <td>5.000000</td>\n",
       "      <td>25.035361</td>\n",
       "      <td>6.000000</td>\n",
       "      <td>15.000000</td>\n",
       "      <td>143.440000</td>\n",
       "      <td>0.000000</td>\n",
       "      <td>NaN</td>\n",
       "      <td>NaN</td>\n",
       "    </tr>\n",
       "    <tr>\n",
       "      <th>75%</th>\n",
       "      <td>3750.250000</td>\n",
       "      <td>54.000000</td>\n",
       "      <td>7.000000</td>\n",
       "      <td>32.000361</td>\n",
       "      <td>8.000000</td>\n",
       "      <td>20.000000</td>\n",
       "      <td>198.380000</td>\n",
       "      <td>1.000000</td>\n",
       "      <td>NaN</td>\n",
       "      <td>NaN</td>\n",
       "    </tr>\n",
       "    <tr>\n",
       "      <th>max</th>\n",
       "      <td>5000.000000</td>\n",
       "      <td>65.000000</td>\n",
       "      <td>9.000000</td>\n",
       "      <td>90.000000</td>\n",
       "      <td>12.000000</td>\n",
       "      <td>25.000000</td>\n",
       "      <td>427.400000</td>\n",
       "      <td>1.000000</td>\n",
       "      <td>NaN</td>\n",
       "      <td>NaN</td>\n",
       "    </tr>\n",
       "  </tbody>\n",
       "</table>\n",
       "</div>"
      ],
      "text/plain": [
       "             userID          age     sessions   time_spent  pages_visited   \n",
       "count   5000.000000  5000.000000  5000.000000  5000.000000    5000.000000  \\\n",
       "unique          NaN          NaN          NaN          NaN            NaN   \n",
       "top             NaN          NaN          NaN          NaN            NaN   \n",
       "freq            NaN          NaN          NaN          NaN            NaN   \n",
       "mean    2500.500000    41.538200     5.027200    25.158496       5.774400   \n",
       "std     1443.520003    14.042734     2.594958     9.825536       2.570842   \n",
       "min        1.000000    18.000000     1.000000     1.000000       1.000000   \n",
       "25%     1250.750000    29.000000     3.000000    18.268862       4.000000   \n",
       "50%     2500.500000    42.000000     5.000000    25.035361       6.000000   \n",
       "75%     3750.250000    54.000000     7.000000    32.000361       8.000000   \n",
       "max     5000.000000    65.000000     9.000000    90.000000      12.000000   \n",
       "\n",
       "         cart_items   cart_value  checkout_status   device    location  \n",
       "count   5000.000000  5000.000000      5000.000000     4900        4970  \n",
       "unique          NaN          NaN              NaN        3           5  \n",
       "top             NaN          NaN              NaN  Desktop  Location 4  \n",
       "freq            NaN          NaN              NaN     2538        1056  \n",
       "mean      14.966400   149.443146         0.272400      NaN         NaN  \n",
       "std        6.046336    68.711683         0.445239      NaN         NaN  \n",
       "min        5.000000    20.410000         0.000000      NaN         NaN  \n",
       "25%       10.000000    92.482500         0.000000      NaN         NaN  \n",
       "50%       15.000000   143.440000         0.000000      NaN         NaN  \n",
       "75%       20.000000   198.380000         1.000000      NaN         NaN  \n",
       "max       25.000000   427.400000         1.000000      NaN         NaN  "
      ]
     },
     "execution_count": 13,
     "metadata": {},
     "output_type": "execute_result"
    }
   ],
   "source": [
    "df.describe(include='all')"
   ]
  },
  {
   "attachments": {},
   "cell_type": "markdown",
   "metadata": {},
   "source": [
    "Here, I have used th describe function to get some more information about the dataset, here we can see that :\n",
    "\n",
    "1. The mean time spent is 25 but the the max time spent is 90 so there might be some outlier here\n",
    "\n",
    "2. The mean cart value is almost 150 but the max is 427 so there might be some outlier here\n",
    "\n",
    "3. The top device is Desktop and the top location is Location 4. We can use this informtation to impute the data later but it might bias our dataset\n",
    "\n",
    "We will need to do some data cleaning to make sure that we can do accurate analysis\n"
   ]
  },
  {
   "attachments": {},
   "cell_type": "markdown",
   "metadata": {},
   "source": [
    "First, we should check if there are any rows where all 4 columns have a missing data point; these rows we should drop immediately.\n",
    "\n",
    "Device: Since, desktop is the most frequently occuring device type, we can impute the missing data with it, it also has a frequency of 2538 which is high enough but it might still bias the data.\n",
    "\n",
    "Location: Since, Location 4 is the most frequently occuring location type, we can impute the missing data with it but its frequency is low(1056) so it might not bias the data.\n",
    "\n",
    "Let's start by identifying rows where both device and location data points are missing."
   ]
  },
  {
   "cell_type": "code",
   "execution_count": 15,
   "metadata": {},
   "outputs": [
    {
     "data": {
      "text/html": [
       "<div>\n",
       "<style scoped>\n",
       "    .dataframe tbody tr th:only-of-type {\n",
       "        vertical-align: middle;\n",
       "    }\n",
       "\n",
       "    .dataframe tbody tr th {\n",
       "        vertical-align: top;\n",
       "    }\n",
       "\n",
       "    .dataframe thead th {\n",
       "        text-align: right;\n",
       "    }\n",
       "</style>\n",
       "<table border=\"1\" class=\"dataframe\">\n",
       "  <thead>\n",
       "    <tr style=\"text-align: right;\">\n",
       "      <th></th>\n",
       "      <th>userID</th>\n",
       "      <th>age</th>\n",
       "      <th>sessions</th>\n",
       "      <th>time_spent</th>\n",
       "      <th>pages_visited</th>\n",
       "      <th>cart_items</th>\n",
       "      <th>cart_value</th>\n",
       "      <th>checkout_status</th>\n",
       "      <th>device</th>\n",
       "      <th>location</th>\n",
       "    </tr>\n",
       "  </thead>\n",
       "  <tbody>\n",
       "    <tr>\n",
       "      <th>2130</th>\n",
       "      <td>2131</td>\n",
       "      <td>20</td>\n",
       "      <td>5</td>\n",
       "      <td>21.841304</td>\n",
       "      <td>6</td>\n",
       "      <td>19</td>\n",
       "      <td>243.39</td>\n",
       "      <td>0</td>\n",
       "      <td>NaN</td>\n",
       "      <td>NaN</td>\n",
       "    </tr>\n",
       "  </tbody>\n",
       "</table>\n",
       "</div>"
      ],
      "text/plain": [
       "      userID  age  sessions  time_spent  pages_visited  cart_items   \n",
       "2130    2131   20         5   21.841304              6          19  \\\n",
       "\n",
       "      cart_value  checkout_status device location  \n",
       "2130      243.39                0    NaN      NaN  "
      ]
     },
     "execution_count": 15,
     "metadata": {},
     "output_type": "execute_result"
    }
   ],
   "source": [
    "df[df['device'].isnull() & df['location'].isnull()]"
   ]
  },
  {
   "attachments": {},
   "cell_type": "markdown",
   "metadata": {},
   "source": [
    "There is one row where both device and location is missing, we can drop this row for our analysis"
   ]
  },
  {
   "cell_type": "code",
   "execution_count": 16,
   "metadata": {},
   "outputs": [],
   "source": [
    "df.drop([2130], axis=0, inplace=True)"
   ]
  },
  {
   "attachments": {},
   "cell_type": "markdown",
   "metadata": {},
   "source": [
    "I will run the same code again to see if there is any other row which has these two missing data points"
   ]
  },
  {
   "cell_type": "code",
   "execution_count": 17,
   "metadata": {},
   "outputs": [
    {
     "data": {
      "text/html": [
       "<div>\n",
       "<style scoped>\n",
       "    .dataframe tbody tr th:only-of-type {\n",
       "        vertical-align: middle;\n",
       "    }\n",
       "\n",
       "    .dataframe tbody tr th {\n",
       "        vertical-align: top;\n",
       "    }\n",
       "\n",
       "    .dataframe thead th {\n",
       "        text-align: right;\n",
       "    }\n",
       "</style>\n",
       "<table border=\"1\" class=\"dataframe\">\n",
       "  <thead>\n",
       "    <tr style=\"text-align: right;\">\n",
       "      <th></th>\n",
       "      <th>userID</th>\n",
       "      <th>age</th>\n",
       "      <th>sessions</th>\n",
       "      <th>time_spent</th>\n",
       "      <th>pages_visited</th>\n",
       "      <th>cart_items</th>\n",
       "      <th>cart_value</th>\n",
       "      <th>checkout_status</th>\n",
       "      <th>device</th>\n",
       "      <th>location</th>\n",
       "    </tr>\n",
       "  </thead>\n",
       "  <tbody>\n",
       "  </tbody>\n",
       "</table>\n",
       "</div>"
      ],
      "text/plain": [
       "Empty DataFrame\n",
       "Columns: [userID, age, sessions, time_spent, pages_visited, cart_items, cart_value, checkout_status, device, location]\n",
       "Index: []"
      ]
     },
     "execution_count": 17,
     "metadata": {},
     "output_type": "execute_result"
    }
   ],
   "source": [
    "df[df['device'].isnull() & df['location'].isnull()]"
   ]
  },
  {
   "attachments": {},
   "cell_type": "markdown",
   "metadata": {},
   "source": [
    "Here, we can clearly see that there is no row now which has these two data points missing"
   ]
  },
  {
   "cell_type": "code",
   "execution_count": 18,
   "metadata": {},
   "outputs": [
    {
     "name": "stdout",
     "output_type": "stream",
     "text": [
      "<class 'pandas.core.frame.DataFrame'>\n",
      "Index: 4999 entries, 0 to 4999\n",
      "Data columns (total 10 columns):\n",
      " #   Column           Non-Null Count  Dtype  \n",
      "---  ------           --------------  -----  \n",
      " 0   userID           4999 non-null   int64  \n",
      " 1   age              4999 non-null   int64  \n",
      " 2   sessions         4999 non-null   int64  \n",
      " 3   time_spent       4999 non-null   float64\n",
      " 4   pages_visited    4999 non-null   int64  \n",
      " 5   cart_items       4999 non-null   int64  \n",
      " 6   cart_value       4999 non-null   float64\n",
      " 7   checkout_status  4999 non-null   int64  \n",
      " 8   device           4900 non-null   object \n",
      " 9   location         4970 non-null   object \n",
      "dtypes: float64(2), int64(6), object(2)\n",
      "memory usage: 429.6+ KB\n"
     ]
    }
   ],
   "source": [
    "df.info()"
   ]
  },
  {
   "cell_type": "code",
   "execution_count": 19,
   "metadata": {},
   "outputs": [
    {
     "data": {
      "text/html": [
       "<div>\n",
       "<style scoped>\n",
       "    .dataframe tbody tr th:only-of-type {\n",
       "        vertical-align: middle;\n",
       "    }\n",
       "\n",
       "    .dataframe tbody tr th {\n",
       "        vertical-align: top;\n",
       "    }\n",
       "\n",
       "    .dataframe thead th {\n",
       "        text-align: right;\n",
       "    }\n",
       "</style>\n",
       "<table border=\"1\" class=\"dataframe\">\n",
       "  <thead>\n",
       "    <tr style=\"text-align: right;\">\n",
       "      <th></th>\n",
       "      <th>userID</th>\n",
       "      <th>age</th>\n",
       "      <th>sessions</th>\n",
       "      <th>time_spent</th>\n",
       "      <th>pages_visited</th>\n",
       "      <th>cart_items</th>\n",
       "      <th>cart_value</th>\n",
       "      <th>checkout_status</th>\n",
       "      <th>device</th>\n",
       "      <th>location</th>\n",
       "    </tr>\n",
       "  </thead>\n",
       "  <tbody>\n",
       "    <tr>\n",
       "      <th>count</th>\n",
       "      <td>4999.000000</td>\n",
       "      <td>4999.000000</td>\n",
       "      <td>4999.000000</td>\n",
       "      <td>4999.000000</td>\n",
       "      <td>4999.000000</td>\n",
       "      <td>4999.000000</td>\n",
       "      <td>4999.000000</td>\n",
       "      <td>4999.000000</td>\n",
       "      <td>4900</td>\n",
       "      <td>4970</td>\n",
       "    </tr>\n",
       "    <tr>\n",
       "      <th>unique</th>\n",
       "      <td>NaN</td>\n",
       "      <td>NaN</td>\n",
       "      <td>NaN</td>\n",
       "      <td>NaN</td>\n",
       "      <td>NaN</td>\n",
       "      <td>NaN</td>\n",
       "      <td>NaN</td>\n",
       "      <td>NaN</td>\n",
       "      <td>3</td>\n",
       "      <td>5</td>\n",
       "    </tr>\n",
       "    <tr>\n",
       "      <th>top</th>\n",
       "      <td>NaN</td>\n",
       "      <td>NaN</td>\n",
       "      <td>NaN</td>\n",
       "      <td>NaN</td>\n",
       "      <td>NaN</td>\n",
       "      <td>NaN</td>\n",
       "      <td>NaN</td>\n",
       "      <td>NaN</td>\n",
       "      <td>Desktop</td>\n",
       "      <td>Location 4</td>\n",
       "    </tr>\n",
       "    <tr>\n",
       "      <th>freq</th>\n",
       "      <td>NaN</td>\n",
       "      <td>NaN</td>\n",
       "      <td>NaN</td>\n",
       "      <td>NaN</td>\n",
       "      <td>NaN</td>\n",
       "      <td>NaN</td>\n",
       "      <td>NaN</td>\n",
       "      <td>NaN</td>\n",
       "      <td>2538</td>\n",
       "      <td>1056</td>\n",
       "    </tr>\n",
       "    <tr>\n",
       "      <th>mean</th>\n",
       "      <td>2500.573915</td>\n",
       "      <td>41.542509</td>\n",
       "      <td>5.027205</td>\n",
       "      <td>25.159160</td>\n",
       "      <td>5.774355</td>\n",
       "      <td>14.965593</td>\n",
       "      <td>149.424353</td>\n",
       "      <td>0.272454</td>\n",
       "      <td>NaN</td>\n",
       "      <td>NaN</td>\n",
       "    </tr>\n",
       "    <tr>\n",
       "      <th>std</th>\n",
       "      <td>1443.654943</td>\n",
       "      <td>14.040833</td>\n",
       "      <td>2.595218</td>\n",
       "      <td>9.826407</td>\n",
       "      <td>2.571097</td>\n",
       "      <td>6.046672</td>\n",
       "      <td>68.705704</td>\n",
       "      <td>0.445267</td>\n",
       "      <td>NaN</td>\n",
       "      <td>NaN</td>\n",
       "    </tr>\n",
       "    <tr>\n",
       "      <th>min</th>\n",
       "      <td>1.000000</td>\n",
       "      <td>18.000000</td>\n",
       "      <td>1.000000</td>\n",
       "      <td>1.000000</td>\n",
       "      <td>1.000000</td>\n",
       "      <td>5.000000</td>\n",
       "      <td>20.410000</td>\n",
       "      <td>0.000000</td>\n",
       "      <td>NaN</td>\n",
       "      <td>NaN</td>\n",
       "    </tr>\n",
       "    <tr>\n",
       "      <th>25%</th>\n",
       "      <td>1250.500000</td>\n",
       "      <td>29.000000</td>\n",
       "      <td>3.000000</td>\n",
       "      <td>18.267083</td>\n",
       "      <td>4.000000</td>\n",
       "      <td>10.000000</td>\n",
       "      <td>92.465000</td>\n",
       "      <td>0.000000</td>\n",
       "      <td>NaN</td>\n",
       "      <td>NaN</td>\n",
       "    </tr>\n",
       "    <tr>\n",
       "      <th>50%</th>\n",
       "      <td>2501.000000</td>\n",
       "      <td>42.000000</td>\n",
       "      <td>5.000000</td>\n",
       "      <td>25.036202</td>\n",
       "      <td>6.000000</td>\n",
       "      <td>15.000000</td>\n",
       "      <td>143.340000</td>\n",
       "      <td>0.000000</td>\n",
       "      <td>NaN</td>\n",
       "      <td>NaN</td>\n",
       "    </tr>\n",
       "    <tr>\n",
       "      <th>75%</th>\n",
       "      <td>3750.500000</td>\n",
       "      <td>54.000000</td>\n",
       "      <td>7.000000</td>\n",
       "      <td>32.001153</td>\n",
       "      <td>8.000000</td>\n",
       "      <td>20.000000</td>\n",
       "      <td>198.330000</td>\n",
       "      <td>1.000000</td>\n",
       "      <td>NaN</td>\n",
       "      <td>NaN</td>\n",
       "    </tr>\n",
       "    <tr>\n",
       "      <th>max</th>\n",
       "      <td>5000.000000</td>\n",
       "      <td>65.000000</td>\n",
       "      <td>9.000000</td>\n",
       "      <td>90.000000</td>\n",
       "      <td>12.000000</td>\n",
       "      <td>25.000000</td>\n",
       "      <td>427.400000</td>\n",
       "      <td>1.000000</td>\n",
       "      <td>NaN</td>\n",
       "      <td>NaN</td>\n",
       "    </tr>\n",
       "  </tbody>\n",
       "</table>\n",
       "</div>"
      ],
      "text/plain": [
       "             userID          age     sessions   time_spent  pages_visited   \n",
       "count   4999.000000  4999.000000  4999.000000  4999.000000    4999.000000  \\\n",
       "unique          NaN          NaN          NaN          NaN            NaN   \n",
       "top             NaN          NaN          NaN          NaN            NaN   \n",
       "freq            NaN          NaN          NaN          NaN            NaN   \n",
       "mean    2500.573915    41.542509     5.027205    25.159160       5.774355   \n",
       "std     1443.654943    14.040833     2.595218     9.826407       2.571097   \n",
       "min        1.000000    18.000000     1.000000     1.000000       1.000000   \n",
       "25%     1250.500000    29.000000     3.000000    18.267083       4.000000   \n",
       "50%     2501.000000    42.000000     5.000000    25.036202       6.000000   \n",
       "75%     3750.500000    54.000000     7.000000    32.001153       8.000000   \n",
       "max     5000.000000    65.000000     9.000000    90.000000      12.000000   \n",
       "\n",
       "         cart_items   cart_value  checkout_status   device    location  \n",
       "count   4999.000000  4999.000000      4999.000000     4900        4970  \n",
       "unique          NaN          NaN              NaN        3           5  \n",
       "top             NaN          NaN              NaN  Desktop  Location 4  \n",
       "freq            NaN          NaN              NaN     2538        1056  \n",
       "mean      14.965593   149.424353         0.272454      NaN         NaN  \n",
       "std        6.046672    68.705704         0.445267      NaN         NaN  \n",
       "min        5.000000    20.410000         0.000000      NaN         NaN  \n",
       "25%       10.000000    92.465000         0.000000      NaN         NaN  \n",
       "50%       15.000000   143.340000         0.000000      NaN         NaN  \n",
       "75%       20.000000   198.330000         1.000000      NaN         NaN  \n",
       "max       25.000000   427.400000         1.000000      NaN         NaN  "
      ]
     },
     "execution_count": 19,
     "metadata": {},
     "output_type": "execute_result"
    }
   ],
   "source": [
    "df.describe(include='all')"
   ]
  },
  {
   "attachments": {},
   "cell_type": "markdown",
   "metadata": {},
   "source": [
    "The numbers here have not changed much so we can assume that the one row we deleted is not causing too much change in the dataset"
   ]
  },
  {
   "attachments": {},
   "cell_type": "markdown",
   "metadata": {},
   "source": [
    "Since, we do not want to bias our dataset while cleaning it, we can impute the missing data with 'Other' or 'Unknown'"
   ]
  },
  {
   "cell_type": "code",
   "execution_count": 20,
   "metadata": {},
   "outputs": [],
   "source": [
    "df_test=df.copy()"
   ]
  },
  {
   "cell_type": "code",
   "execution_count": 21,
   "metadata": {},
   "outputs": [],
   "source": [
    "df_test['location'] = df_test['location'].fillna('Other')"
   ]
  },
  {
   "cell_type": "code",
   "execution_count": 22,
   "metadata": {},
   "outputs": [
    {
     "data": {
      "text/html": [
       "<div>\n",
       "<style scoped>\n",
       "    .dataframe tbody tr th:only-of-type {\n",
       "        vertical-align: middle;\n",
       "    }\n",
       "\n",
       "    .dataframe tbody tr th {\n",
       "        vertical-align: top;\n",
       "    }\n",
       "\n",
       "    .dataframe thead tr th {\n",
       "        text-align: left;\n",
       "    }\n",
       "\n",
       "    .dataframe thead tr:last-of-type th {\n",
       "        text-align: right;\n",
       "    }\n",
       "</style>\n",
       "<table border=\"1\" class=\"dataframe\">\n",
       "  <thead>\n",
       "    <tr>\n",
       "      <th></th>\n",
       "      <th colspan=\"8\" halign=\"left\">userID</th>\n",
       "      <th colspan=\"2\" halign=\"left\">age</th>\n",
       "      <th>...</th>\n",
       "      <th colspan=\"2\" halign=\"left\">cart_value</th>\n",
       "      <th colspan=\"8\" halign=\"left\">checkout_status</th>\n",
       "    </tr>\n",
       "    <tr>\n",
       "      <th></th>\n",
       "      <th>count</th>\n",
       "      <th>mean</th>\n",
       "      <th>std</th>\n",
       "      <th>min</th>\n",
       "      <th>25%</th>\n",
       "      <th>50%</th>\n",
       "      <th>75%</th>\n",
       "      <th>max</th>\n",
       "      <th>count</th>\n",
       "      <th>mean</th>\n",
       "      <th>...</th>\n",
       "      <th>75%</th>\n",
       "      <th>max</th>\n",
       "      <th>count</th>\n",
       "      <th>mean</th>\n",
       "      <th>std</th>\n",
       "      <th>min</th>\n",
       "      <th>25%</th>\n",
       "      <th>50%</th>\n",
       "      <th>75%</th>\n",
       "      <th>max</th>\n",
       "    </tr>\n",
       "    <tr>\n",
       "      <th>location</th>\n",
       "      <th></th>\n",
       "      <th></th>\n",
       "      <th></th>\n",
       "      <th></th>\n",
       "      <th></th>\n",
       "      <th></th>\n",
       "      <th></th>\n",
       "      <th></th>\n",
       "      <th></th>\n",
       "      <th></th>\n",
       "      <th></th>\n",
       "      <th></th>\n",
       "      <th></th>\n",
       "      <th></th>\n",
       "      <th></th>\n",
       "      <th></th>\n",
       "      <th></th>\n",
       "      <th></th>\n",
       "      <th></th>\n",
       "      <th></th>\n",
       "      <th></th>\n",
       "    </tr>\n",
       "  </thead>\n",
       "  <tbody>\n",
       "    <tr>\n",
       "      <th>Location 1</th>\n",
       "      <td>979.0</td>\n",
       "      <td>2428.888662</td>\n",
       "      <td>1460.439111</td>\n",
       "      <td>1.0</td>\n",
       "      <td>1115.00</td>\n",
       "      <td>2431.0</td>\n",
       "      <td>3683.5</td>\n",
       "      <td>4995.0</td>\n",
       "      <td>979.0</td>\n",
       "      <td>42.291113</td>\n",
       "      <td>...</td>\n",
       "      <td>199.9500</td>\n",
       "      <td>394.77</td>\n",
       "      <td>979.0</td>\n",
       "      <td>0.282942</td>\n",
       "      <td>0.450659</td>\n",
       "      <td>0.0</td>\n",
       "      <td>0.0</td>\n",
       "      <td>0.0</td>\n",
       "      <td>1.0</td>\n",
       "      <td>1.0</td>\n",
       "    </tr>\n",
       "    <tr>\n",
       "      <th>Location 2</th>\n",
       "      <td>950.0</td>\n",
       "      <td>2495.070526</td>\n",
       "      <td>1413.792983</td>\n",
       "      <td>4.0</td>\n",
       "      <td>1335.50</td>\n",
       "      <td>2517.0</td>\n",
       "      <td>3674.0</td>\n",
       "      <td>4997.0</td>\n",
       "      <td>950.0</td>\n",
       "      <td>41.648421</td>\n",
       "      <td>...</td>\n",
       "      <td>198.9475</td>\n",
       "      <td>357.77</td>\n",
       "      <td>950.0</td>\n",
       "      <td>0.266316</td>\n",
       "      <td>0.442264</td>\n",
       "      <td>0.0</td>\n",
       "      <td>0.0</td>\n",
       "      <td>0.0</td>\n",
       "      <td>1.0</td>\n",
       "      <td>1.0</td>\n",
       "    </tr>\n",
       "    <tr>\n",
       "      <th>Location 3</th>\n",
       "      <td>1014.0</td>\n",
       "      <td>2477.388560</td>\n",
       "      <td>1437.144060</td>\n",
       "      <td>2.0</td>\n",
       "      <td>1248.25</td>\n",
       "      <td>2378.5</td>\n",
       "      <td>3712.5</td>\n",
       "      <td>5000.0</td>\n",
       "      <td>1014.0</td>\n",
       "      <td>41.763314</td>\n",
       "      <td>...</td>\n",
       "      <td>195.4400</td>\n",
       "      <td>427.40</td>\n",
       "      <td>1014.0</td>\n",
       "      <td>0.261341</td>\n",
       "      <td>0.439582</td>\n",
       "      <td>0.0</td>\n",
       "      <td>0.0</td>\n",
       "      <td>0.0</td>\n",
       "      <td>1.0</td>\n",
       "      <td>1.0</td>\n",
       "    </tr>\n",
       "    <tr>\n",
       "      <th>Location 4</th>\n",
       "      <td>1056.0</td>\n",
       "      <td>2508.631629</td>\n",
       "      <td>1470.328379</td>\n",
       "      <td>3.0</td>\n",
       "      <td>1219.50</td>\n",
       "      <td>2517.5</td>\n",
       "      <td>3796.0</td>\n",
       "      <td>4998.0</td>\n",
       "      <td>1056.0</td>\n",
       "      <td>40.892992</td>\n",
       "      <td>...</td>\n",
       "      <td>199.5425</td>\n",
       "      <td>353.80</td>\n",
       "      <td>1056.0</td>\n",
       "      <td>0.284091</td>\n",
       "      <td>0.451194</td>\n",
       "      <td>0.0</td>\n",
       "      <td>0.0</td>\n",
       "      <td>0.0</td>\n",
       "      <td>1.0</td>\n",
       "      <td>1.0</td>\n",
       "    </tr>\n",
       "    <tr>\n",
       "      <th>Location 5</th>\n",
       "      <td>971.0</td>\n",
       "      <td>2598.049434</td>\n",
       "      <td>1434.875326</td>\n",
       "      <td>6.0</td>\n",
       "      <td>1352.50</td>\n",
       "      <td>2664.0</td>\n",
       "      <td>3849.0</td>\n",
       "      <td>4999.0</td>\n",
       "      <td>971.0</td>\n",
       "      <td>41.085479</td>\n",
       "      <td>...</td>\n",
       "      <td>197.7800</td>\n",
       "      <td>359.00</td>\n",
       "      <td>971.0</td>\n",
       "      <td>0.266735</td>\n",
       "      <td>0.442481</td>\n",
       "      <td>0.0</td>\n",
       "      <td>0.0</td>\n",
       "      <td>0.0</td>\n",
       "      <td>1.0</td>\n",
       "      <td>1.0</td>\n",
       "    </tr>\n",
       "  </tbody>\n",
       "</table>\n",
       "<p>5 rows × 64 columns</p>\n",
       "</div>"
      ],
      "text/plain": [
       "            userID                                                           \n",
       "             count         mean          std  min      25%     50%     75%   \n",
       "location                                                                     \n",
       "Location 1   979.0  2428.888662  1460.439111  1.0  1115.00  2431.0  3683.5  \\\n",
       "Location 2   950.0  2495.070526  1413.792983  4.0  1335.50  2517.0  3674.0   \n",
       "Location 3  1014.0  2477.388560  1437.144060  2.0  1248.25  2378.5  3712.5   \n",
       "Location 4  1056.0  2508.631629  1470.328379  3.0  1219.50  2517.5  3796.0   \n",
       "Location 5   971.0  2598.049434  1434.875326  6.0  1352.50  2664.0  3849.0   \n",
       "\n",
       "                       age             ... cart_value         checkout_status   \n",
       "               max   count       mean  ...        75%     max           count   \n",
       "location                               ...                                      \n",
       "Location 1  4995.0   979.0  42.291113  ...   199.9500  394.77           979.0  \\\n",
       "Location 2  4997.0   950.0  41.648421  ...   198.9475  357.77           950.0   \n",
       "Location 3  5000.0  1014.0  41.763314  ...   195.4400  427.40          1014.0   \n",
       "Location 4  4998.0  1056.0  40.892992  ...   199.5425  353.80          1056.0   \n",
       "Location 5  4999.0   971.0  41.085479  ...   197.7800  359.00           971.0   \n",
       "\n",
       "                                                         \n",
       "                mean       std  min  25%  50%  75%  max  \n",
       "location                                                 \n",
       "Location 1  0.282942  0.450659  0.0  0.0  0.0  1.0  1.0  \n",
       "Location 2  0.266316  0.442264  0.0  0.0  0.0  1.0  1.0  \n",
       "Location 3  0.261341  0.439582  0.0  0.0  0.0  1.0  1.0  \n",
       "Location 4  0.284091  0.451194  0.0  0.0  0.0  1.0  1.0  \n",
       "Location 5  0.266735  0.442481  0.0  0.0  0.0  1.0  1.0  \n",
       "\n",
       "[5 rows x 64 columns]"
      ]
     },
     "execution_count": 22,
     "metadata": {},
     "output_type": "execute_result"
    }
   ],
   "source": [
    "df.groupby('location').describe()"
   ]
  },
  {
   "cell_type": "code",
   "execution_count": 23,
   "metadata": {},
   "outputs": [
    {
     "data": {
      "text/html": [
       "<div>\n",
       "<style scoped>\n",
       "    .dataframe tbody tr th:only-of-type {\n",
       "        vertical-align: middle;\n",
       "    }\n",
       "\n",
       "    .dataframe tbody tr th {\n",
       "        vertical-align: top;\n",
       "    }\n",
       "\n",
       "    .dataframe thead tr th {\n",
       "        text-align: left;\n",
       "    }\n",
       "\n",
       "    .dataframe thead tr:last-of-type th {\n",
       "        text-align: right;\n",
       "    }\n",
       "</style>\n",
       "<table border=\"1\" class=\"dataframe\">\n",
       "  <thead>\n",
       "    <tr>\n",
       "      <th></th>\n",
       "      <th colspan=\"8\" halign=\"left\">userID</th>\n",
       "      <th colspan=\"2\" halign=\"left\">age</th>\n",
       "      <th>...</th>\n",
       "      <th colspan=\"2\" halign=\"left\">cart_value</th>\n",
       "      <th colspan=\"8\" halign=\"left\">checkout_status</th>\n",
       "    </tr>\n",
       "    <tr>\n",
       "      <th></th>\n",
       "      <th>count</th>\n",
       "      <th>mean</th>\n",
       "      <th>std</th>\n",
       "      <th>min</th>\n",
       "      <th>25%</th>\n",
       "      <th>50%</th>\n",
       "      <th>75%</th>\n",
       "      <th>max</th>\n",
       "      <th>count</th>\n",
       "      <th>mean</th>\n",
       "      <th>...</th>\n",
       "      <th>75%</th>\n",
       "      <th>max</th>\n",
       "      <th>count</th>\n",
       "      <th>mean</th>\n",
       "      <th>std</th>\n",
       "      <th>min</th>\n",
       "      <th>25%</th>\n",
       "      <th>50%</th>\n",
       "      <th>75%</th>\n",
       "      <th>max</th>\n",
       "    </tr>\n",
       "    <tr>\n",
       "      <th>location</th>\n",
       "      <th></th>\n",
       "      <th></th>\n",
       "      <th></th>\n",
       "      <th></th>\n",
       "      <th></th>\n",
       "      <th></th>\n",
       "      <th></th>\n",
       "      <th></th>\n",
       "      <th></th>\n",
       "      <th></th>\n",
       "      <th></th>\n",
       "      <th></th>\n",
       "      <th></th>\n",
       "      <th></th>\n",
       "      <th></th>\n",
       "      <th></th>\n",
       "      <th></th>\n",
       "      <th></th>\n",
       "      <th></th>\n",
       "      <th></th>\n",
       "      <th></th>\n",
       "    </tr>\n",
       "  </thead>\n",
       "  <tbody>\n",
       "    <tr>\n",
       "      <th>Location 1</th>\n",
       "      <td>979.0</td>\n",
       "      <td>2428.888662</td>\n",
       "      <td>1460.439111</td>\n",
       "      <td>1.0</td>\n",
       "      <td>1115.00</td>\n",
       "      <td>2431.0</td>\n",
       "      <td>3683.5</td>\n",
       "      <td>4995.0</td>\n",
       "      <td>979.0</td>\n",
       "      <td>42.291113</td>\n",
       "      <td>...</td>\n",
       "      <td>199.9500</td>\n",
       "      <td>394.77</td>\n",
       "      <td>979.0</td>\n",
       "      <td>0.282942</td>\n",
       "      <td>0.450659</td>\n",
       "      <td>0.0</td>\n",
       "      <td>0.0</td>\n",
       "      <td>0.0</td>\n",
       "      <td>1.0</td>\n",
       "      <td>1.0</td>\n",
       "    </tr>\n",
       "    <tr>\n",
       "      <th>Location 2</th>\n",
       "      <td>950.0</td>\n",
       "      <td>2495.070526</td>\n",
       "      <td>1413.792983</td>\n",
       "      <td>4.0</td>\n",
       "      <td>1335.50</td>\n",
       "      <td>2517.0</td>\n",
       "      <td>3674.0</td>\n",
       "      <td>4997.0</td>\n",
       "      <td>950.0</td>\n",
       "      <td>41.648421</td>\n",
       "      <td>...</td>\n",
       "      <td>198.9475</td>\n",
       "      <td>357.77</td>\n",
       "      <td>950.0</td>\n",
       "      <td>0.266316</td>\n",
       "      <td>0.442264</td>\n",
       "      <td>0.0</td>\n",
       "      <td>0.0</td>\n",
       "      <td>0.0</td>\n",
       "      <td>1.0</td>\n",
       "      <td>1.0</td>\n",
       "    </tr>\n",
       "    <tr>\n",
       "      <th>Location 3</th>\n",
       "      <td>1014.0</td>\n",
       "      <td>2477.388560</td>\n",
       "      <td>1437.144060</td>\n",
       "      <td>2.0</td>\n",
       "      <td>1248.25</td>\n",
       "      <td>2378.5</td>\n",
       "      <td>3712.5</td>\n",
       "      <td>5000.0</td>\n",
       "      <td>1014.0</td>\n",
       "      <td>41.763314</td>\n",
       "      <td>...</td>\n",
       "      <td>195.4400</td>\n",
       "      <td>427.40</td>\n",
       "      <td>1014.0</td>\n",
       "      <td>0.261341</td>\n",
       "      <td>0.439582</td>\n",
       "      <td>0.0</td>\n",
       "      <td>0.0</td>\n",
       "      <td>0.0</td>\n",
       "      <td>1.0</td>\n",
       "      <td>1.0</td>\n",
       "    </tr>\n",
       "    <tr>\n",
       "      <th>Location 4</th>\n",
       "      <td>1056.0</td>\n",
       "      <td>2508.631629</td>\n",
       "      <td>1470.328379</td>\n",
       "      <td>3.0</td>\n",
       "      <td>1219.50</td>\n",
       "      <td>2517.5</td>\n",
       "      <td>3796.0</td>\n",
       "      <td>4998.0</td>\n",
       "      <td>1056.0</td>\n",
       "      <td>40.892992</td>\n",
       "      <td>...</td>\n",
       "      <td>199.5425</td>\n",
       "      <td>353.80</td>\n",
       "      <td>1056.0</td>\n",
       "      <td>0.284091</td>\n",
       "      <td>0.451194</td>\n",
       "      <td>0.0</td>\n",
       "      <td>0.0</td>\n",
       "      <td>0.0</td>\n",
       "      <td>1.0</td>\n",
       "      <td>1.0</td>\n",
       "    </tr>\n",
       "    <tr>\n",
       "      <th>Location 5</th>\n",
       "      <td>971.0</td>\n",
       "      <td>2598.049434</td>\n",
       "      <td>1434.875326</td>\n",
       "      <td>6.0</td>\n",
       "      <td>1352.50</td>\n",
       "      <td>2664.0</td>\n",
       "      <td>3849.0</td>\n",
       "      <td>4999.0</td>\n",
       "      <td>971.0</td>\n",
       "      <td>41.085479</td>\n",
       "      <td>...</td>\n",
       "      <td>197.7800</td>\n",
       "      <td>359.00</td>\n",
       "      <td>971.0</td>\n",
       "      <td>0.266735</td>\n",
       "      <td>0.442481</td>\n",
       "      <td>0.0</td>\n",
       "      <td>0.0</td>\n",
       "      <td>0.0</td>\n",
       "      <td>1.0</td>\n",
       "      <td>1.0</td>\n",
       "    </tr>\n",
       "    <tr>\n",
       "      <th>Other</th>\n",
       "      <td>29.0</td>\n",
       "      <td>2354.379310</td>\n",
       "      <td>1310.371523</td>\n",
       "      <td>60.0</td>\n",
       "      <td>1460.00</td>\n",
       "      <td>2352.0</td>\n",
       "      <td>3325.0</td>\n",
       "      <td>4951.0</td>\n",
       "      <td>29.0</td>\n",
       "      <td>44.034483</td>\n",
       "      <td>...</td>\n",
       "      <td>195.4400</td>\n",
       "      <td>237.64</td>\n",
       "      <td>29.0</td>\n",
       "      <td>0.275862</td>\n",
       "      <td>0.454859</td>\n",
       "      <td>0.0</td>\n",
       "      <td>0.0</td>\n",
       "      <td>0.0</td>\n",
       "      <td>1.0</td>\n",
       "      <td>1.0</td>\n",
       "    </tr>\n",
       "  </tbody>\n",
       "</table>\n",
       "<p>6 rows × 64 columns</p>\n",
       "</div>"
      ],
      "text/plain": [
       "            userID                                                            \n",
       "             count         mean          std   min      25%     50%     75%   \n",
       "location                                                                      \n",
       "Location 1   979.0  2428.888662  1460.439111   1.0  1115.00  2431.0  3683.5  \\\n",
       "Location 2   950.0  2495.070526  1413.792983   4.0  1335.50  2517.0  3674.0   \n",
       "Location 3  1014.0  2477.388560  1437.144060   2.0  1248.25  2378.5  3712.5   \n",
       "Location 4  1056.0  2508.631629  1470.328379   3.0  1219.50  2517.5  3796.0   \n",
       "Location 5   971.0  2598.049434  1434.875326   6.0  1352.50  2664.0  3849.0   \n",
       "Other         29.0  2354.379310  1310.371523  60.0  1460.00  2352.0  3325.0   \n",
       "\n",
       "                       age             ... cart_value         checkout_status   \n",
       "               max   count       mean  ...        75%     max           count   \n",
       "location                               ...                                      \n",
       "Location 1  4995.0   979.0  42.291113  ...   199.9500  394.77           979.0  \\\n",
       "Location 2  4997.0   950.0  41.648421  ...   198.9475  357.77           950.0   \n",
       "Location 3  5000.0  1014.0  41.763314  ...   195.4400  427.40          1014.0   \n",
       "Location 4  4998.0  1056.0  40.892992  ...   199.5425  353.80          1056.0   \n",
       "Location 5  4999.0   971.0  41.085479  ...   197.7800  359.00           971.0   \n",
       "Other       4951.0    29.0  44.034483  ...   195.4400  237.64            29.0   \n",
       "\n",
       "                                                         \n",
       "                mean       std  min  25%  50%  75%  max  \n",
       "location                                                 \n",
       "Location 1  0.282942  0.450659  0.0  0.0  0.0  1.0  1.0  \n",
       "Location 2  0.266316  0.442264  0.0  0.0  0.0  1.0  1.0  \n",
       "Location 3  0.261341  0.439582  0.0  0.0  0.0  1.0  1.0  \n",
       "Location 4  0.284091  0.451194  0.0  0.0  0.0  1.0  1.0  \n",
       "Location 5  0.266735  0.442481  0.0  0.0  0.0  1.0  1.0  \n",
       "Other       0.275862  0.454859  0.0  0.0  0.0  1.0  1.0  \n",
       "\n",
       "[6 rows x 64 columns]"
      ]
     },
     "execution_count": 23,
     "metadata": {},
     "output_type": "execute_result"
    }
   ],
   "source": [
    "df_test.groupby('location').describe()"
   ]
  },
  {
   "attachments": {},
   "cell_type": "markdown",
   "metadata": {},
   "source": [
    "Here, we see that the mean values don't change much if we impute the missing data so our approach should be good"
   ]
  },
  {
   "cell_type": "code",
   "execution_count": 27,
   "metadata": {},
   "outputs": [],
   "source": [
    "df_test_2 = df.copy()"
   ]
  },
  {
   "cell_type": "code",
   "execution_count": 28,
   "metadata": {},
   "outputs": [],
   "source": [
    "df_test_2['location'] = df_test_2['location'].fillna('Location 4')"
   ]
  },
  {
   "cell_type": "code",
   "execution_count": 29,
   "metadata": {},
   "outputs": [
    {
     "data": {
      "text/html": [
       "<div>\n",
       "<style scoped>\n",
       "    .dataframe tbody tr th:only-of-type {\n",
       "        vertical-align: middle;\n",
       "    }\n",
       "\n",
       "    .dataframe tbody tr th {\n",
       "        vertical-align: top;\n",
       "    }\n",
       "\n",
       "    .dataframe thead tr th {\n",
       "        text-align: left;\n",
       "    }\n",
       "\n",
       "    .dataframe thead tr:last-of-type th {\n",
       "        text-align: right;\n",
       "    }\n",
       "</style>\n",
       "<table border=\"1\" class=\"dataframe\">\n",
       "  <thead>\n",
       "    <tr>\n",
       "      <th></th>\n",
       "      <th colspan=\"8\" halign=\"left\">userID</th>\n",
       "      <th colspan=\"2\" halign=\"left\">age</th>\n",
       "      <th>...</th>\n",
       "      <th colspan=\"2\" halign=\"left\">cart_value</th>\n",
       "      <th colspan=\"8\" halign=\"left\">checkout_status</th>\n",
       "    </tr>\n",
       "    <tr>\n",
       "      <th></th>\n",
       "      <th>count</th>\n",
       "      <th>mean</th>\n",
       "      <th>std</th>\n",
       "      <th>min</th>\n",
       "      <th>25%</th>\n",
       "      <th>50%</th>\n",
       "      <th>75%</th>\n",
       "      <th>max</th>\n",
       "      <th>count</th>\n",
       "      <th>mean</th>\n",
       "      <th>...</th>\n",
       "      <th>75%</th>\n",
       "      <th>max</th>\n",
       "      <th>count</th>\n",
       "      <th>mean</th>\n",
       "      <th>std</th>\n",
       "      <th>min</th>\n",
       "      <th>25%</th>\n",
       "      <th>50%</th>\n",
       "      <th>75%</th>\n",
       "      <th>max</th>\n",
       "    </tr>\n",
       "    <tr>\n",
       "      <th>location</th>\n",
       "      <th></th>\n",
       "      <th></th>\n",
       "      <th></th>\n",
       "      <th></th>\n",
       "      <th></th>\n",
       "      <th></th>\n",
       "      <th></th>\n",
       "      <th></th>\n",
       "      <th></th>\n",
       "      <th></th>\n",
       "      <th></th>\n",
       "      <th></th>\n",
       "      <th></th>\n",
       "      <th></th>\n",
       "      <th></th>\n",
       "      <th></th>\n",
       "      <th></th>\n",
       "      <th></th>\n",
       "      <th></th>\n",
       "      <th></th>\n",
       "      <th></th>\n",
       "    </tr>\n",
       "  </thead>\n",
       "  <tbody>\n",
       "    <tr>\n",
       "      <th>Location 1</th>\n",
       "      <td>979.0</td>\n",
       "      <td>2428.888662</td>\n",
       "      <td>1460.439111</td>\n",
       "      <td>1.0</td>\n",
       "      <td>1115.00</td>\n",
       "      <td>2431.0</td>\n",
       "      <td>3683.5</td>\n",
       "      <td>4995.0</td>\n",
       "      <td>979.0</td>\n",
       "      <td>42.291113</td>\n",
       "      <td>...</td>\n",
       "      <td>199.9500</td>\n",
       "      <td>394.77</td>\n",
       "      <td>979.0</td>\n",
       "      <td>0.282942</td>\n",
       "      <td>0.450659</td>\n",
       "      <td>0.0</td>\n",
       "      <td>0.0</td>\n",
       "      <td>0.0</td>\n",
       "      <td>1.0</td>\n",
       "      <td>1.0</td>\n",
       "    </tr>\n",
       "    <tr>\n",
       "      <th>Location 2</th>\n",
       "      <td>950.0</td>\n",
       "      <td>2495.070526</td>\n",
       "      <td>1413.792983</td>\n",
       "      <td>4.0</td>\n",
       "      <td>1335.50</td>\n",
       "      <td>2517.0</td>\n",
       "      <td>3674.0</td>\n",
       "      <td>4997.0</td>\n",
       "      <td>950.0</td>\n",
       "      <td>41.648421</td>\n",
       "      <td>...</td>\n",
       "      <td>198.9475</td>\n",
       "      <td>357.77</td>\n",
       "      <td>950.0</td>\n",
       "      <td>0.266316</td>\n",
       "      <td>0.442264</td>\n",
       "      <td>0.0</td>\n",
       "      <td>0.0</td>\n",
       "      <td>0.0</td>\n",
       "      <td>1.0</td>\n",
       "      <td>1.0</td>\n",
       "    </tr>\n",
       "    <tr>\n",
       "      <th>Location 3</th>\n",
       "      <td>1014.0</td>\n",
       "      <td>2477.388560</td>\n",
       "      <td>1437.144060</td>\n",
       "      <td>2.0</td>\n",
       "      <td>1248.25</td>\n",
       "      <td>2378.5</td>\n",
       "      <td>3712.5</td>\n",
       "      <td>5000.0</td>\n",
       "      <td>1014.0</td>\n",
       "      <td>41.763314</td>\n",
       "      <td>...</td>\n",
       "      <td>195.4400</td>\n",
       "      <td>427.40</td>\n",
       "      <td>1014.0</td>\n",
       "      <td>0.261341</td>\n",
       "      <td>0.439582</td>\n",
       "      <td>0.0</td>\n",
       "      <td>0.0</td>\n",
       "      <td>0.0</td>\n",
       "      <td>1.0</td>\n",
       "      <td>1.0</td>\n",
       "    </tr>\n",
       "    <tr>\n",
       "      <th>Location 4</th>\n",
       "      <td>1085.0</td>\n",
       "      <td>2504.508756</td>\n",
       "      <td>1465.947354</td>\n",
       "      <td>3.0</td>\n",
       "      <td>1221.00</td>\n",
       "      <td>2514.0</td>\n",
       "      <td>3783.0</td>\n",
       "      <td>4998.0</td>\n",
       "      <td>1085.0</td>\n",
       "      <td>40.976959</td>\n",
       "      <td>...</td>\n",
       "      <td>199.4300</td>\n",
       "      <td>353.80</td>\n",
       "      <td>1085.0</td>\n",
       "      <td>0.283871</td>\n",
       "      <td>0.451083</td>\n",
       "      <td>0.0</td>\n",
       "      <td>0.0</td>\n",
       "      <td>0.0</td>\n",
       "      <td>1.0</td>\n",
       "      <td>1.0</td>\n",
       "    </tr>\n",
       "    <tr>\n",
       "      <th>Location 5</th>\n",
       "      <td>971.0</td>\n",
       "      <td>2598.049434</td>\n",
       "      <td>1434.875326</td>\n",
       "      <td>6.0</td>\n",
       "      <td>1352.50</td>\n",
       "      <td>2664.0</td>\n",
       "      <td>3849.0</td>\n",
       "      <td>4999.0</td>\n",
       "      <td>971.0</td>\n",
       "      <td>41.085479</td>\n",
       "      <td>...</td>\n",
       "      <td>197.7800</td>\n",
       "      <td>359.00</td>\n",
       "      <td>971.0</td>\n",
       "      <td>0.266735</td>\n",
       "      <td>0.442481</td>\n",
       "      <td>0.0</td>\n",
       "      <td>0.0</td>\n",
       "      <td>0.0</td>\n",
       "      <td>1.0</td>\n",
       "      <td>1.0</td>\n",
       "    </tr>\n",
       "  </tbody>\n",
       "</table>\n",
       "<p>5 rows × 64 columns</p>\n",
       "</div>"
      ],
      "text/plain": [
       "            userID                                                           \n",
       "             count         mean          std  min      25%     50%     75%   \n",
       "location                                                                     \n",
       "Location 1   979.0  2428.888662  1460.439111  1.0  1115.00  2431.0  3683.5  \\\n",
       "Location 2   950.0  2495.070526  1413.792983  4.0  1335.50  2517.0  3674.0   \n",
       "Location 3  1014.0  2477.388560  1437.144060  2.0  1248.25  2378.5  3712.5   \n",
       "Location 4  1085.0  2504.508756  1465.947354  3.0  1221.00  2514.0  3783.0   \n",
       "Location 5   971.0  2598.049434  1434.875326  6.0  1352.50  2664.0  3849.0   \n",
       "\n",
       "                       age             ... cart_value         checkout_status   \n",
       "               max   count       mean  ...        75%     max           count   \n",
       "location                               ...                                      \n",
       "Location 1  4995.0   979.0  42.291113  ...   199.9500  394.77           979.0  \\\n",
       "Location 2  4997.0   950.0  41.648421  ...   198.9475  357.77           950.0   \n",
       "Location 3  5000.0  1014.0  41.763314  ...   195.4400  427.40          1014.0   \n",
       "Location 4  4998.0  1085.0  40.976959  ...   199.4300  353.80          1085.0   \n",
       "Location 5  4999.0   971.0  41.085479  ...   197.7800  359.00           971.0   \n",
       "\n",
       "                                                         \n",
       "                mean       std  min  25%  50%  75%  max  \n",
       "location                                                 \n",
       "Location 1  0.282942  0.450659  0.0  0.0  0.0  1.0  1.0  \n",
       "Location 2  0.266316  0.442264  0.0  0.0  0.0  1.0  1.0  \n",
       "Location 3  0.261341  0.439582  0.0  0.0  0.0  1.0  1.0  \n",
       "Location 4  0.283871  0.451083  0.0  0.0  0.0  1.0  1.0  \n",
       "Location 5  0.266735  0.442481  0.0  0.0  0.0  1.0  1.0  \n",
       "\n",
       "[5 rows x 64 columns]"
      ]
     },
     "execution_count": 29,
     "metadata": {},
     "output_type": "execute_result"
    }
   ],
   "source": [
    "df_test_2.groupby('location').describe()"
   ]
  },
  {
   "attachments": {},
   "cell_type": "markdown",
   "metadata": {},
   "source": [
    "Here, we can see that if we impute the missing data with 'Location 4', then its not affecting the data that much, this means we can work with this approach as well"
   ]
  },
  {
   "attachments": {},
   "cell_type": "markdown",
   "metadata": {},
   "source": [
    "Based on the above tests, I have decided to impute the original dataframe's missing location data with 'Location 4'"
   ]
  },
  {
   "cell_type": "code",
   "execution_count": 30,
   "metadata": {},
   "outputs": [],
   "source": [
    "df['location'] = df['location'].fillna('Location 4')"
   ]
  },
  {
   "attachments": {},
   "cell_type": "markdown",
   "metadata": {},
   "source": [
    "I will repeat the same process for device column"
   ]
  },
  {
   "cell_type": "code",
   "execution_count": 32,
   "metadata": {},
   "outputs": [],
   "source": [
    "df_test['device'] = df_test['device'].fillna('Other')\n",
    "df_test_2['device'] = df_test_2['device'].fillna('Desktop')"
   ]
  },
  {
   "cell_type": "code",
   "execution_count": 36,
   "metadata": {},
   "outputs": [
    {
     "data": {
      "text/html": [
       "<div>\n",
       "<style scoped>\n",
       "    .dataframe tbody tr th:only-of-type {\n",
       "        vertical-align: middle;\n",
       "    }\n",
       "\n",
       "    .dataframe tbody tr th {\n",
       "        vertical-align: top;\n",
       "    }\n",
       "\n",
       "    .dataframe thead tr th {\n",
       "        text-align: left;\n",
       "    }\n",
       "\n",
       "    .dataframe thead tr:last-of-type th {\n",
       "        text-align: right;\n",
       "    }\n",
       "</style>\n",
       "<table border=\"1\" class=\"dataframe\">\n",
       "  <thead>\n",
       "    <tr>\n",
       "      <th></th>\n",
       "      <th colspan=\"8\" halign=\"left\">userID</th>\n",
       "      <th colspan=\"2\" halign=\"left\">age</th>\n",
       "      <th>...</th>\n",
       "      <th colspan=\"2\" halign=\"left\">cart_value</th>\n",
       "      <th colspan=\"8\" halign=\"left\">checkout_status</th>\n",
       "    </tr>\n",
       "    <tr>\n",
       "      <th></th>\n",
       "      <th>count</th>\n",
       "      <th>mean</th>\n",
       "      <th>std</th>\n",
       "      <th>min</th>\n",
       "      <th>25%</th>\n",
       "      <th>50%</th>\n",
       "      <th>75%</th>\n",
       "      <th>max</th>\n",
       "      <th>count</th>\n",
       "      <th>mean</th>\n",
       "      <th>...</th>\n",
       "      <th>75%</th>\n",
       "      <th>max</th>\n",
       "      <th>count</th>\n",
       "      <th>mean</th>\n",
       "      <th>std</th>\n",
       "      <th>min</th>\n",
       "      <th>25%</th>\n",
       "      <th>50%</th>\n",
       "      <th>75%</th>\n",
       "      <th>max</th>\n",
       "    </tr>\n",
       "    <tr>\n",
       "      <th>device</th>\n",
       "      <th></th>\n",
       "      <th></th>\n",
       "      <th></th>\n",
       "      <th></th>\n",
       "      <th></th>\n",
       "      <th></th>\n",
       "      <th></th>\n",
       "      <th></th>\n",
       "      <th></th>\n",
       "      <th></th>\n",
       "      <th></th>\n",
       "      <th></th>\n",
       "      <th></th>\n",
       "      <th></th>\n",
       "      <th></th>\n",
       "      <th></th>\n",
       "      <th></th>\n",
       "      <th></th>\n",
       "      <th></th>\n",
       "      <th></th>\n",
       "      <th></th>\n",
       "    </tr>\n",
       "  </thead>\n",
       "  <tbody>\n",
       "    <tr>\n",
       "      <th>Desktop</th>\n",
       "      <td>2538.0</td>\n",
       "      <td>2481.464933</td>\n",
       "      <td>1435.264432</td>\n",
       "      <td>1.0</td>\n",
       "      <td>1260.25</td>\n",
       "      <td>2497.5</td>\n",
       "      <td>3733.75</td>\n",
       "      <td>4999.0</td>\n",
       "      <td>2538.0</td>\n",
       "      <td>41.338849</td>\n",
       "      <td>...</td>\n",
       "      <td>197.2450</td>\n",
       "      <td>427.40</td>\n",
       "      <td>2538.0</td>\n",
       "      <td>0.285264</td>\n",
       "      <td>0.451629</td>\n",
       "      <td>0.0</td>\n",
       "      <td>0.0</td>\n",
       "      <td>0.0</td>\n",
       "      <td>1.0</td>\n",
       "      <td>1.0</td>\n",
       "    </tr>\n",
       "    <tr>\n",
       "      <th>Mobile</th>\n",
       "      <td>1428.0</td>\n",
       "      <td>2518.448880</td>\n",
       "      <td>1457.420581</td>\n",
       "      <td>7.0</td>\n",
       "      <td>1236.75</td>\n",
       "      <td>2512.5</td>\n",
       "      <td>3807.75</td>\n",
       "      <td>4991.0</td>\n",
       "      <td>1428.0</td>\n",
       "      <td>41.724790</td>\n",
       "      <td>...</td>\n",
       "      <td>201.6100</td>\n",
       "      <td>387.98</td>\n",
       "      <td>1428.0</td>\n",
       "      <td>0.264706</td>\n",
       "      <td>0.441331</td>\n",
       "      <td>0.0</td>\n",
       "      <td>0.0</td>\n",
       "      <td>0.0</td>\n",
       "      <td>1.0</td>\n",
       "      <td>1.0</td>\n",
       "    </tr>\n",
       "    <tr>\n",
       "      <th>Tablet</th>\n",
       "      <td>934.0</td>\n",
       "      <td>2534.595289</td>\n",
       "      <td>1452.234322</td>\n",
       "      <td>5.0</td>\n",
       "      <td>1271.25</td>\n",
       "      <td>2513.0</td>\n",
       "      <td>3753.25</td>\n",
       "      <td>5000.0</td>\n",
       "      <td>934.0</td>\n",
       "      <td>41.844754</td>\n",
       "      <td>...</td>\n",
       "      <td>197.7025</td>\n",
       "      <td>377.98</td>\n",
       "      <td>934.0</td>\n",
       "      <td>0.254818</td>\n",
       "      <td>0.435992</td>\n",
       "      <td>0.0</td>\n",
       "      <td>0.0</td>\n",
       "      <td>0.0</td>\n",
       "      <td>1.0</td>\n",
       "      <td>1.0</td>\n",
       "    </tr>\n",
       "  </tbody>\n",
       "</table>\n",
       "<p>3 rows × 64 columns</p>\n",
       "</div>"
      ],
      "text/plain": [
       "         userID                                                            \n",
       "          count         mean          std  min      25%     50%      75%   \n",
       "device                                                                     \n",
       "Desktop  2538.0  2481.464933  1435.264432  1.0  1260.25  2497.5  3733.75  \\\n",
       "Mobile   1428.0  2518.448880  1457.420581  7.0  1236.75  2512.5  3807.75   \n",
       "Tablet    934.0  2534.595289  1452.234322  5.0  1271.25  2513.0  3753.25   \n",
       "\n",
       "                    age             ... cart_value         checkout_status   \n",
       "            max   count       mean  ...        75%     max           count   \n",
       "device                              ...                                      \n",
       "Desktop  4999.0  2538.0  41.338849  ...   197.2450  427.40          2538.0  \\\n",
       "Mobile   4991.0  1428.0  41.724790  ...   201.6100  387.98          1428.0   \n",
       "Tablet   5000.0   934.0  41.844754  ...   197.7025  377.98           934.0   \n",
       "\n",
       "                                                      \n",
       "             mean       std  min  25%  50%  75%  max  \n",
       "device                                                \n",
       "Desktop  0.285264  0.451629  0.0  0.0  0.0  1.0  1.0  \n",
       "Mobile   0.264706  0.441331  0.0  0.0  0.0  1.0  1.0  \n",
       "Tablet   0.254818  0.435992  0.0  0.0  0.0  1.0  1.0  \n",
       "\n",
       "[3 rows x 64 columns]"
      ]
     },
     "execution_count": 36,
     "metadata": {},
     "output_type": "execute_result"
    }
   ],
   "source": [
    "df.groupby('device').describe()"
   ]
  },
  {
   "cell_type": "code",
   "execution_count": 34,
   "metadata": {},
   "outputs": [
    {
     "data": {
      "text/html": [
       "<div>\n",
       "<style scoped>\n",
       "    .dataframe tbody tr th:only-of-type {\n",
       "        vertical-align: middle;\n",
       "    }\n",
       "\n",
       "    .dataframe tbody tr th {\n",
       "        vertical-align: top;\n",
       "    }\n",
       "\n",
       "    .dataframe thead tr th {\n",
       "        text-align: left;\n",
       "    }\n",
       "\n",
       "    .dataframe thead tr:last-of-type th {\n",
       "        text-align: right;\n",
       "    }\n",
       "</style>\n",
       "<table border=\"1\" class=\"dataframe\">\n",
       "  <thead>\n",
       "    <tr>\n",
       "      <th></th>\n",
       "      <th colspan=\"8\" halign=\"left\">userID</th>\n",
       "      <th colspan=\"2\" halign=\"left\">age</th>\n",
       "      <th>...</th>\n",
       "      <th colspan=\"2\" halign=\"left\">cart_value</th>\n",
       "      <th colspan=\"8\" halign=\"left\">checkout_status</th>\n",
       "    </tr>\n",
       "    <tr>\n",
       "      <th></th>\n",
       "      <th>count</th>\n",
       "      <th>mean</th>\n",
       "      <th>std</th>\n",
       "      <th>min</th>\n",
       "      <th>25%</th>\n",
       "      <th>50%</th>\n",
       "      <th>75%</th>\n",
       "      <th>max</th>\n",
       "      <th>count</th>\n",
       "      <th>mean</th>\n",
       "      <th>...</th>\n",
       "      <th>75%</th>\n",
       "      <th>max</th>\n",
       "      <th>count</th>\n",
       "      <th>mean</th>\n",
       "      <th>std</th>\n",
       "      <th>min</th>\n",
       "      <th>25%</th>\n",
       "      <th>50%</th>\n",
       "      <th>75%</th>\n",
       "      <th>max</th>\n",
       "    </tr>\n",
       "    <tr>\n",
       "      <th>device</th>\n",
       "      <th></th>\n",
       "      <th></th>\n",
       "      <th></th>\n",
       "      <th></th>\n",
       "      <th></th>\n",
       "      <th></th>\n",
       "      <th></th>\n",
       "      <th></th>\n",
       "      <th></th>\n",
       "      <th></th>\n",
       "      <th></th>\n",
       "      <th></th>\n",
       "      <th></th>\n",
       "      <th></th>\n",
       "      <th></th>\n",
       "      <th></th>\n",
       "      <th></th>\n",
       "      <th></th>\n",
       "      <th></th>\n",
       "      <th></th>\n",
       "      <th></th>\n",
       "    </tr>\n",
       "  </thead>\n",
       "  <tbody>\n",
       "    <tr>\n",
       "      <th>Desktop</th>\n",
       "      <td>2538.0</td>\n",
       "      <td>2481.464933</td>\n",
       "      <td>1435.264432</td>\n",
       "      <td>1.0</td>\n",
       "      <td>1260.25</td>\n",
       "      <td>2497.5</td>\n",
       "      <td>3733.75</td>\n",
       "      <td>4999.0</td>\n",
       "      <td>2538.0</td>\n",
       "      <td>41.338849</td>\n",
       "      <td>...</td>\n",
       "      <td>197.2450</td>\n",
       "      <td>427.40</td>\n",
       "      <td>2538.0</td>\n",
       "      <td>0.285264</td>\n",
       "      <td>0.451629</td>\n",
       "      <td>0.0</td>\n",
       "      <td>0.0</td>\n",
       "      <td>0.0</td>\n",
       "      <td>1.0</td>\n",
       "      <td>1.0</td>\n",
       "    </tr>\n",
       "    <tr>\n",
       "      <th>Mobile</th>\n",
       "      <td>1428.0</td>\n",
       "      <td>2518.448880</td>\n",
       "      <td>1457.420581</td>\n",
       "      <td>7.0</td>\n",
       "      <td>1236.75</td>\n",
       "      <td>2512.5</td>\n",
       "      <td>3807.75</td>\n",
       "      <td>4991.0</td>\n",
       "      <td>1428.0</td>\n",
       "      <td>41.724790</td>\n",
       "      <td>...</td>\n",
       "      <td>201.6100</td>\n",
       "      <td>387.98</td>\n",
       "      <td>1428.0</td>\n",
       "      <td>0.264706</td>\n",
       "      <td>0.441331</td>\n",
       "      <td>0.0</td>\n",
       "      <td>0.0</td>\n",
       "      <td>0.0</td>\n",
       "      <td>1.0</td>\n",
       "      <td>1.0</td>\n",
       "    </tr>\n",
       "    <tr>\n",
       "      <th>Other</th>\n",
       "      <td>99.0</td>\n",
       "      <td>2411.656566</td>\n",
       "      <td>1386.399927</td>\n",
       "      <td>80.0</td>\n",
       "      <td>1226.00</td>\n",
       "      <td>2379.0</td>\n",
       "      <td>3541.50</td>\n",
       "      <td>4988.0</td>\n",
       "      <td>99.0</td>\n",
       "      <td>41.282828</td>\n",
       "      <td>...</td>\n",
       "      <td>191.7000</td>\n",
       "      <td>302.48</td>\n",
       "      <td>99.0</td>\n",
       "      <td>0.222222</td>\n",
       "      <td>0.417855</td>\n",
       "      <td>0.0</td>\n",
       "      <td>0.0</td>\n",
       "      <td>0.0</td>\n",
       "      <td>0.0</td>\n",
       "      <td>1.0</td>\n",
       "    </tr>\n",
       "    <tr>\n",
       "      <th>Tablet</th>\n",
       "      <td>934.0</td>\n",
       "      <td>2534.595289</td>\n",
       "      <td>1452.234322</td>\n",
       "      <td>5.0</td>\n",
       "      <td>1271.25</td>\n",
       "      <td>2513.0</td>\n",
       "      <td>3753.25</td>\n",
       "      <td>5000.0</td>\n",
       "      <td>934.0</td>\n",
       "      <td>41.844754</td>\n",
       "      <td>...</td>\n",
       "      <td>197.7025</td>\n",
       "      <td>377.98</td>\n",
       "      <td>934.0</td>\n",
       "      <td>0.254818</td>\n",
       "      <td>0.435992</td>\n",
       "      <td>0.0</td>\n",
       "      <td>0.0</td>\n",
       "      <td>0.0</td>\n",
       "      <td>1.0</td>\n",
       "      <td>1.0</td>\n",
       "    </tr>\n",
       "  </tbody>\n",
       "</table>\n",
       "<p>4 rows × 64 columns</p>\n",
       "</div>"
      ],
      "text/plain": [
       "         userID                                                             \n",
       "          count         mean          std   min      25%     50%      75%   \n",
       "device                                                                      \n",
       "Desktop  2538.0  2481.464933  1435.264432   1.0  1260.25  2497.5  3733.75  \\\n",
       "Mobile   1428.0  2518.448880  1457.420581   7.0  1236.75  2512.5  3807.75   \n",
       "Other      99.0  2411.656566  1386.399927  80.0  1226.00  2379.0  3541.50   \n",
       "Tablet    934.0  2534.595289  1452.234322   5.0  1271.25  2513.0  3753.25   \n",
       "\n",
       "                    age             ... cart_value         checkout_status   \n",
       "            max   count       mean  ...        75%     max           count   \n",
       "device                              ...                                      \n",
       "Desktop  4999.0  2538.0  41.338849  ...   197.2450  427.40          2538.0  \\\n",
       "Mobile   4991.0  1428.0  41.724790  ...   201.6100  387.98          1428.0   \n",
       "Other    4988.0    99.0  41.282828  ...   191.7000  302.48            99.0   \n",
       "Tablet   5000.0   934.0  41.844754  ...   197.7025  377.98           934.0   \n",
       "\n",
       "                                                      \n",
       "             mean       std  min  25%  50%  75%  max  \n",
       "device                                                \n",
       "Desktop  0.285264  0.451629  0.0  0.0  0.0  1.0  1.0  \n",
       "Mobile   0.264706  0.441331  0.0  0.0  0.0  1.0  1.0  \n",
       "Other    0.222222  0.417855  0.0  0.0  0.0  0.0  1.0  \n",
       "Tablet   0.254818  0.435992  0.0  0.0  0.0  1.0  1.0  \n",
       "\n",
       "[4 rows x 64 columns]"
      ]
     },
     "execution_count": 34,
     "metadata": {},
     "output_type": "execute_result"
    }
   ],
   "source": [
    "df_test.groupby('device').describe()"
   ]
  },
  {
   "cell_type": "code",
   "execution_count": 35,
   "metadata": {},
   "outputs": [
    {
     "data": {
      "text/html": [
       "<div>\n",
       "<style scoped>\n",
       "    .dataframe tbody tr th:only-of-type {\n",
       "        vertical-align: middle;\n",
       "    }\n",
       "\n",
       "    .dataframe tbody tr th {\n",
       "        vertical-align: top;\n",
       "    }\n",
       "\n",
       "    .dataframe thead tr th {\n",
       "        text-align: left;\n",
       "    }\n",
       "\n",
       "    .dataframe thead tr:last-of-type th {\n",
       "        text-align: right;\n",
       "    }\n",
       "</style>\n",
       "<table border=\"1\" class=\"dataframe\">\n",
       "  <thead>\n",
       "    <tr>\n",
       "      <th></th>\n",
       "      <th colspan=\"8\" halign=\"left\">userID</th>\n",
       "      <th colspan=\"2\" halign=\"left\">age</th>\n",
       "      <th>...</th>\n",
       "      <th colspan=\"2\" halign=\"left\">cart_value</th>\n",
       "      <th colspan=\"8\" halign=\"left\">checkout_status</th>\n",
       "    </tr>\n",
       "    <tr>\n",
       "      <th></th>\n",
       "      <th>count</th>\n",
       "      <th>mean</th>\n",
       "      <th>std</th>\n",
       "      <th>min</th>\n",
       "      <th>25%</th>\n",
       "      <th>50%</th>\n",
       "      <th>75%</th>\n",
       "      <th>max</th>\n",
       "      <th>count</th>\n",
       "      <th>mean</th>\n",
       "      <th>...</th>\n",
       "      <th>75%</th>\n",
       "      <th>max</th>\n",
       "      <th>count</th>\n",
       "      <th>mean</th>\n",
       "      <th>std</th>\n",
       "      <th>min</th>\n",
       "      <th>25%</th>\n",
       "      <th>50%</th>\n",
       "      <th>75%</th>\n",
       "      <th>max</th>\n",
       "    </tr>\n",
       "    <tr>\n",
       "      <th>device</th>\n",
       "      <th></th>\n",
       "      <th></th>\n",
       "      <th></th>\n",
       "      <th></th>\n",
       "      <th></th>\n",
       "      <th></th>\n",
       "      <th></th>\n",
       "      <th></th>\n",
       "      <th></th>\n",
       "      <th></th>\n",
       "      <th></th>\n",
       "      <th></th>\n",
       "      <th></th>\n",
       "      <th></th>\n",
       "      <th></th>\n",
       "      <th></th>\n",
       "      <th></th>\n",
       "      <th></th>\n",
       "      <th></th>\n",
       "      <th></th>\n",
       "      <th></th>\n",
       "    </tr>\n",
       "  </thead>\n",
       "  <tbody>\n",
       "    <tr>\n",
       "      <th>Desktop</th>\n",
       "      <td>2637.0</td>\n",
       "      <td>2478.844141</td>\n",
       "      <td>1433.266427</td>\n",
       "      <td>1.0</td>\n",
       "      <td>1259.00</td>\n",
       "      <td>2495.0</td>\n",
       "      <td>3721.00</td>\n",
       "      <td>4999.0</td>\n",
       "      <td>2637.0</td>\n",
       "      <td>41.336746</td>\n",
       "      <td>...</td>\n",
       "      <td>196.9500</td>\n",
       "      <td>427.40</td>\n",
       "      <td>2637.0</td>\n",
       "      <td>0.282897</td>\n",
       "      <td>0.450492</td>\n",
       "      <td>0.0</td>\n",
       "      <td>0.0</td>\n",
       "      <td>0.0</td>\n",
       "      <td>1.0</td>\n",
       "      <td>1.0</td>\n",
       "    </tr>\n",
       "    <tr>\n",
       "      <th>Mobile</th>\n",
       "      <td>1428.0</td>\n",
       "      <td>2518.448880</td>\n",
       "      <td>1457.420581</td>\n",
       "      <td>7.0</td>\n",
       "      <td>1236.75</td>\n",
       "      <td>2512.5</td>\n",
       "      <td>3807.75</td>\n",
       "      <td>4991.0</td>\n",
       "      <td>1428.0</td>\n",
       "      <td>41.724790</td>\n",
       "      <td>...</td>\n",
       "      <td>201.6100</td>\n",
       "      <td>387.98</td>\n",
       "      <td>1428.0</td>\n",
       "      <td>0.264706</td>\n",
       "      <td>0.441331</td>\n",
       "      <td>0.0</td>\n",
       "      <td>0.0</td>\n",
       "      <td>0.0</td>\n",
       "      <td>1.0</td>\n",
       "      <td>1.0</td>\n",
       "    </tr>\n",
       "    <tr>\n",
       "      <th>Tablet</th>\n",
       "      <td>934.0</td>\n",
       "      <td>2534.595289</td>\n",
       "      <td>1452.234322</td>\n",
       "      <td>5.0</td>\n",
       "      <td>1271.25</td>\n",
       "      <td>2513.0</td>\n",
       "      <td>3753.25</td>\n",
       "      <td>5000.0</td>\n",
       "      <td>934.0</td>\n",
       "      <td>41.844754</td>\n",
       "      <td>...</td>\n",
       "      <td>197.7025</td>\n",
       "      <td>377.98</td>\n",
       "      <td>934.0</td>\n",
       "      <td>0.254818</td>\n",
       "      <td>0.435992</td>\n",
       "      <td>0.0</td>\n",
       "      <td>0.0</td>\n",
       "      <td>0.0</td>\n",
       "      <td>1.0</td>\n",
       "      <td>1.0</td>\n",
       "    </tr>\n",
       "  </tbody>\n",
       "</table>\n",
       "<p>3 rows × 64 columns</p>\n",
       "</div>"
      ],
      "text/plain": [
       "         userID                                                            \n",
       "          count         mean          std  min      25%     50%      75%   \n",
       "device                                                                     \n",
       "Desktop  2637.0  2478.844141  1433.266427  1.0  1259.00  2495.0  3721.00  \\\n",
       "Mobile   1428.0  2518.448880  1457.420581  7.0  1236.75  2512.5  3807.75   \n",
       "Tablet    934.0  2534.595289  1452.234322  5.0  1271.25  2513.0  3753.25   \n",
       "\n",
       "                    age             ... cart_value         checkout_status   \n",
       "            max   count       mean  ...        75%     max           count   \n",
       "device                              ...                                      \n",
       "Desktop  4999.0  2637.0  41.336746  ...   196.9500  427.40          2637.0  \\\n",
       "Mobile   4991.0  1428.0  41.724790  ...   201.6100  387.98          1428.0   \n",
       "Tablet   5000.0   934.0  41.844754  ...   197.7025  377.98           934.0   \n",
       "\n",
       "                                                      \n",
       "             mean       std  min  25%  50%  75%  max  \n",
       "device                                                \n",
       "Desktop  0.282897  0.450492  0.0  0.0  0.0  1.0  1.0  \n",
       "Mobile   0.264706  0.441331  0.0  0.0  0.0  1.0  1.0  \n",
       "Tablet   0.254818  0.435992  0.0  0.0  0.0  1.0  1.0  \n",
       "\n",
       "[3 rows x 64 columns]"
      ]
     },
     "execution_count": 35,
     "metadata": {},
     "output_type": "execute_result"
    }
   ],
   "source": [
    "df_test_2.groupby('device').describe()"
   ]
  },
  {
   "attachments": {},
   "cell_type": "markdown",
   "metadata": {},
   "source": [
    "Both approaches shows similar result but to be on the safer side, I will impute the missing data with 'desktop' as it will ensure we have a full dataset for our analysis"
   ]
  },
  {
   "cell_type": "code",
   "execution_count": 37,
   "metadata": {},
   "outputs": [],
   "source": [
    "df['device'] = df['device'].fillna('Desktop')"
   ]
  },
  {
   "attachments": {},
   "cell_type": "markdown",
   "metadata": {},
   "source": [
    "Outliers\n",
    "\n",
    "Now that we have cleaned up the structural issues in our DataFrame, we should check for outliers. The simple way to do this is by using a BoxPlot. We can use the seaborn boxplot() function to identify outliers.\n",
    "\n",
    "There are more sophisticated techniques, for example calculating the z-score of each value, however since we have not yet done this in class, we will use a simple approach."
   ]
  },
  {
   "cell_type": "code",
   "execution_count": 38,
   "metadata": {},
   "outputs": [
    {
     "data": {
      "text/plain": [
       "<Axes: ylabel='age'>"
      ]
     },
     "execution_count": 38,
     "metadata": {},
     "output_type": "execute_result"
    },
    {
     "data": {
      "image/png": "[encoded data removed]",
      "text/plain": [
       "<Figure size 640x480 with 1 Axes>"
      ]
     },
     "metadata": {},
     "output_type": "display_data"
    }
   ],
   "source": [
    "sns.boxplot(data = df, y='age')"
   ]
  },
  {
   "attachments": {},
   "cell_type": "markdown",
   "metadata": {},
   "source": [
    "Age has no outliers"
   ]
  },
  {
   "cell_type": "code",
   "execution_count": 39,
   "metadata": {},
   "outputs": [
    {
     "data": {
      "text/plain": [
       "<Axes: ylabel='sessions'>"
      ]
     },
     "execution_count": 39,
     "metadata": {},
     "output_type": "execute_result"
    },
    {
     "data": {
      "image/png": "[encoded data removed]",
      "text/plain": [
       "<Figure size 640x480 with 1 Axes>"
      ]
     },
     "metadata": {},
     "output_type": "display_data"
    }
   ],
   "source": [
    "sns.boxplot(data = df, y='sessions')"
   ]
  },
  {
   "attachments": {},
   "cell_type": "markdown",
   "metadata": {},
   "source": [
    "Sessions has no outliers"
   ]
  },
  {
   "cell_type": "code",
   "execution_count": 40,
   "metadata": {},
   "outputs": [
    {
     "data": {
      "text/plain": [
       "<Axes: ylabel='time_spent'>"
      ]
     },
     "execution_count": 40,
     "metadata": {},
     "output_type": "execute_result"
    },
    {
     "data": {
      "image/png": "[encoded data removed]",
      "text/plain": [
       "<Figure size 640x480 with 1 Axes>"
      ]
     },
     "metadata": {},
     "output_type": "display_data"
    }
   ],
   "source": [
    "sns.boxplot(data = df, y='time_spent')"
   ]
  },
  {
   "attachments": {},
   "cell_type": "markdown",
   "metadata": {},
   "source": [
    "Time spent has one outlier which is above 80 so we should remove it"
   ]
  },
  {
   "cell_type": "code",
   "execution_count": 41,
   "metadata": {},
   "outputs": [
    {
     "data": {
      "text/plain": [
       "Index([284, 2494, 2833, 3957], dtype='int64')"
      ]
     },
     "execution_count": 41,
     "metadata": {},
     "output_type": "execute_result"
    }
   ],
   "source": [
    "drop_timespent_outliers = df[df['time_spent']>80].index\n",
    "drop_timespent_outliers"
   ]
  },
  {
   "cell_type": "code",
   "execution_count": 43,
   "metadata": {},
   "outputs": [],
   "source": [
    "df.drop(drop_timespent_outliers, inplace=True)"
   ]
  },
  {
   "cell_type": "code",
   "execution_count": 44,
   "metadata": {},
   "outputs": [
    {
     "data": {
      "text/plain": [
       "<Axes: ylabel='time_spent'>"
      ]
     },
     "execution_count": 44,
     "metadata": {},
     "output_type": "execute_result"
    },
    {
     "data": {
      "image/png": "[encoded data removed]",
      "text/plain": [
       "<Figure size 640x480 with 1 Axes>"
      ]
     },
     "metadata": {},
     "output_type": "display_data"
    }
   ],
   "source": [
    "sns.boxplot(data = df, y='time_spent')"
   ]
  },
  {
   "attachments": {},
   "cell_type": "markdown",
   "metadata": {},
   "source": [
    "Now, there are no outliers in time spent"
   ]
  },
  {
   "cell_type": "code",
   "execution_count": 45,
   "metadata": {},
   "outputs": [
    {
     "data": {
      "text/plain": [
       "<Axes: ylabel='pages_visited'>"
      ]
     },
     "execution_count": 45,
     "metadata": {},
     "output_type": "execute_result"
    },
    {
     "data": {
      "image/png": "[encoded data removed]",
      "text/plain": [
       "<Figure size 640x480 with 1 Axes>"
      ]
     },
     "metadata": {},
     "output_type": "display_data"
    }
   ],
   "source": [
    "sns.boxplot(data = df, y='pages_visited')"
   ]
  },
  {
   "attachments": {},
   "cell_type": "markdown",
   "metadata": {},
   "source": [
    "No outliers in pages visited"
   ]
  },
  {
   "cell_type": "code",
   "execution_count": 46,
   "metadata": {},
   "outputs": [
    {
     "data": {
      "text/plain": [
       "<Axes: ylabel='cart_items'>"
      ]
     },
     "execution_count": 46,
     "metadata": {},
     "output_type": "execute_result"
    },
    {
     "data": {
      "image/png": "[encoded data removed]",
      "text/plain": [
       "<Figure size 640x480 with 1 Axes>"
      ]
     },
     "metadata": {},
     "output_type": "display_data"
    }
   ],
   "source": [
    "sns.boxplot(data = df, y='cart_items')"
   ]
  },
  {
   "attachments": {},
   "cell_type": "markdown",
   "metadata": {},
   "source": [
    "No outliers in cart items"
   ]
  },
  {
   "cell_type": "code",
   "execution_count": 47,
   "metadata": {},
   "outputs": [
    {
     "data": {
      "text/plain": [
       "<Axes: ylabel='cart_value'>"
      ]
     },
     "execution_count": 47,
     "metadata": {},
     "output_type": "execute_result"
    },
    {
     "data": {
      "image/png": "[encoded data removed]",
      "text/plain": [
       "<Figure size 640x480 with 1 Axes>"
      ]
     },
     "metadata": {},
     "output_type": "display_data"
    }
   ],
   "source": [
    "sns.boxplot(data = df, y='cart_value')"
   ]
  },
  {
   "attachments": {},
   "cell_type": "markdown",
   "metadata": {},
   "source": [
    "There are a few outliers in cart value and since we want a clean dataset without outliers, I will delete these outliers"
   ]
  },
  {
   "cell_type": "code",
   "execution_count": 48,
   "metadata": {},
   "outputs": [
    {
     "data": {
      "text/plain": [
       "Index([263, 445, 1268, 1479, 2615, 2664, 2769, 3200], dtype='int64')"
      ]
     },
     "execution_count": 48,
     "metadata": {},
     "output_type": "execute_result"
    }
   ],
   "source": [
    "drop_cartvalue_outliers = df[df['cart_value'] > 360].index\n",
    "drop_cartvalue_outliers"
   ]
  },
  {
   "attachments": {},
   "cell_type": "markdown",
   "metadata": {},
   "source": [
    "There are 8 values that we need to drop from cart values"
   ]
  },
  {
   "cell_type": "code",
   "execution_count": 49,
   "metadata": {},
   "outputs": [],
   "source": [
    "df.drop(drop_cartvalue_outliers, inplace=True)"
   ]
  },
  {
   "cell_type": "code",
   "execution_count": 50,
   "metadata": {},
   "outputs": [
    {
     "name": "stdout",
     "output_type": "stream",
     "text": [
      "<class 'pandas.core.frame.DataFrame'>\n",
      "Index: 4987 entries, 0 to 4999\n",
      "Data columns (total 10 columns):\n",
      " #   Column           Non-Null Count  Dtype  \n",
      "---  ------           --------------  -----  \n",
      " 0   userID           4987 non-null   int64  \n",
      " 1   age              4987 non-null   int64  \n",
      " 2   sessions         4987 non-null   int64  \n",
      " 3   time_spent       4987 non-null   float64\n",
      " 4   pages_visited    4987 non-null   int64  \n",
      " 5   cart_items       4987 non-null   int64  \n",
      " 6   cart_value       4987 non-null   float64\n",
      " 7   checkout_status  4987 non-null   int64  \n",
      " 8   device           4987 non-null   object \n",
      " 9   location         4987 non-null   object \n",
      "dtypes: float64(2), int64(6), object(2)\n",
      "memory usage: 428.6+ KB\n"
     ]
    }
   ],
   "source": [
    "df.info()"
   ]
  },
  {
   "attachments": {},
   "cell_type": "markdown",
   "metadata": {},
   "source": [
    "Finally, let's drop any duplicate entries."
   ]
  },
  {
   "cell_type": "code",
   "execution_count": 51,
   "metadata": {},
   "outputs": [],
   "source": [
    "df.drop_duplicates(inplace=True)"
   ]
  },
  {
   "cell_type": "code",
   "execution_count": 52,
   "metadata": {},
   "outputs": [
    {
     "name": "stdout",
     "output_type": "stream",
     "text": [
      "<class 'pandas.core.frame.DataFrame'>\n",
      "Index: 4987 entries, 0 to 4999\n",
      "Data columns (total 10 columns):\n",
      " #   Column           Non-Null Count  Dtype  \n",
      "---  ------           --------------  -----  \n",
      " 0   userID           4987 non-null   int64  \n",
      " 1   age              4987 non-null   int64  \n",
      " 2   sessions         4987 non-null   int64  \n",
      " 3   time_spent       4987 non-null   float64\n",
      " 4   pages_visited    4987 non-null   int64  \n",
      " 5   cart_items       4987 non-null   int64  \n",
      " 6   cart_value       4987 non-null   float64\n",
      " 7   checkout_status  4987 non-null   int64  \n",
      " 8   device           4987 non-null   object \n",
      " 9   location         4987 non-null   object \n",
      "dtypes: float64(2), int64(6), object(2)\n",
      "memory usage: 428.6+ KB\n"
     ]
    }
   ],
   "source": [
    "df.info()"
   ]
  },
  {
   "attachments": {},
   "cell_type": "markdown",
   "metadata": {},
   "source": [
    "How did you prepare your data for analysis? Describe your data cleaning and preparation approaches, and why these were the best choices.\n",
    "\n",
    "Data cleaning steps are done. The final DataFrame has 4987 entries. The following is a summary on how this data has been cleaned. \n",
    "\n",
    "I dropped one row that had multiple missing values, which would cause challenges for imputation\n",
    "\n",
    "I reviewed missing values in detail, and compared various approaches to imputing data. For the location, I assessed whether we should impute with \"Other\" or the mode which was 'Location 4', since both did not change the overall data much, I decided to go with 'Location 4' as it will provide a more complete dataset for analysis\n",
    "\n",
    "I did the same steps for device column as well and imputed the missing values with 'Desktop'\n",
    "\n",
    "I used a boxplot to identify outliers in all the columns with numeric values, and removed outliers. Outliers can cause issues later on during analysis so the best practice to drop them before we do any sort of analysis on the dataset\n",
    "\n",
    "I dropped all duplicate entries. Duplicate entries do not provide any value to our analysis and can cause issues biasing the dataset so dropping duplicate values is the best option\n"
   ]
  },
  {
   "cell_type": "code",
   "execution_count": 53,
   "metadata": {},
   "outputs": [
    {
     "name": "stdout",
     "output_type": "stream",
     "text": [
      "Overall Checkout Rate: 27.31%\n"
     ]
    }
   ],
   "source": [
    "\n",
    "overall_checkout_rate = df[\"checkout_status\"].mean()\n",
    "print(\"Overall Checkout Rate: {:.2%}\".format(overall_checkout_rate))\n"
   ]
  },
  {
   "attachments": {},
   "cell_type": "markdown",
   "metadata": {},
   "source": [
    "Overall checkout rate is pretty low. It is only 27.31%. We need to do further analysis to see more patterns"
   ]
  },
  {
   "cell_type": "code",
   "execution_count": 54,
   "metadata": {},
   "outputs": [
    {
     "name": "stdout",
     "output_type": "stream",
     "text": [
      "\n",
      "Checkout Rate by Device:\n",
      "device\n",
      "Desktop    0.283758\n",
      "Mobile     0.265263\n",
      "Tablet     0.255091\n",
      "Name: checkout_status, dtype: float64\n"
     ]
    }
   ],
   "source": [
    "device_checkout_rate = df.groupby(\"device\")[\"checkout_status\"].mean()\n",
    "print(\"\\nCheckout Rate by Device:\")\n",
    "print(device_checkout_rate)"
   ]
  },
  {
   "attachments": {},
   "cell_type": "markdown",
   "metadata": {},
   "source": [
    "We can observe that the checkout rates across different device categories are relatively similar, with desktop users showing a slightly higher checkout rate compared to mobile and tablet users. This indicates that device type alone may not be the primary factor influencing the low checkout rate. Further analysis is required to identify other potential factors that may contribute to the issue."
   ]
  },
  {
   "cell_type": "code",
   "execution_count": 55,
   "metadata": {},
   "outputs": [
    {
     "name": "stdout",
     "output_type": "stream",
     "text": [
      "\n",
      "Checkout Rate by Location:\n",
      "location\n",
      "Location 1    0.284394\n",
      "Location 2    0.266316\n",
      "Location 3    0.262636\n",
      "Location 4    0.284395\n",
      "Location 5    0.266735\n",
      "Name: checkout_status, dtype: float64\n"
     ]
    }
   ],
   "source": [
    "location_checkout_rate = df.groupby(\"location\")[\"checkout_status\"].mean()\n",
    "print(\"\\nCheckout Rate by Location:\")\n",
    "print(location_checkout_rate)"
   ]
  },
  {
   "attachments": {},
   "cell_type": "markdown",
   "metadata": {},
   "source": [
    "We can observe that the checkout rates vary slightly across different locations. However, the differences are not substantial, indicating that location alone may not be the primary factor influencing the low checkout rate."
   ]
  },
  {
   "cell_type": "code",
   "execution_count": 56,
   "metadata": {},
   "outputs": [
    {
     "name": "stdout",
     "output_type": "stream",
     "text": [
      "\n",
      "Checkout Rate by Session Count:\n",
      "sessions\n",
      "1    0.283525\n",
      "2    0.278057\n",
      "3    0.262963\n",
      "4    0.295699\n",
      "5    0.290385\n",
      "6    0.272887\n",
      "7    0.268739\n",
      "8    0.261194\n",
      "9    0.247078\n",
      "Name: checkout_status, dtype: float64\n"
     ]
    }
   ],
   "source": [
    "session_count_checkout_rate = df.groupby(\"sessions\")[\"checkout_status\"].mean()\n",
    "print(\"\\nCheckout Rate by Session Count:\")\n",
    "print(session_count_checkout_rate)"
   ]
  },
  {
   "attachments": {},
   "cell_type": "markdown",
   "metadata": {},
   "source": [
    "We can observe that there is some variation in the checkout rates based on the session count. Users with higher session counts tend to have slightly higher checkout rates"
   ]
  },
  {
   "cell_type": "code",
   "execution_count": 57,
   "metadata": {},
   "outputs": [
    {
     "name": "stdout",
     "output_type": "stream",
     "text": [
      "\n",
      "Checkout Rate by Time Spent:\n",
      "time_spent_group\n",
      "0-10     0.000000\n",
      "11-20    0.000000\n",
      "21-30    0.306230\n",
      "30+      0.493687\n",
      "Name: checkout_status, dtype: float64\n"
     ]
    }
   ],
   "source": [
    "bins = [0, 10, 20, 30, 100]\n",
    "labels = [\"0-10\", \"11-20\", \"21-30\", \"30+\"]\n",
    "df[\"time_spent_group\"] = pd.cut(df[\"time_spent\"], bins=bins, labels=labels, right=False)\n",
    "time_spent_checkout_rate = df.groupby(\"time_spent_group\")[\"checkout_status\"].mean()\n",
    "print(\"\\nCheckout Rate by Time Spent:\")\n",
    "print(time_spent_checkout_rate)"
   ]
  },
  {
   "attachments": {},
   "cell_type": "markdown",
   "metadata": {},
   "source": [
    "Based on these results, we can observe that users who spend more time on the website have a higher checkout rate. Users who spent 21-30 minutes or more than 30 minutes on the website show a relatively higher likelihood of proceeding to the checkout. On the other hand, users who spent less than 21 minutes on the website have a 0% checkout rate. This suggests that engagement and time spent on the website may play a significant role in influencing users to complete the checkout process."
   ]
  },
  {
   "cell_type": "code",
   "execution_count": 59,
   "metadata": {},
   "outputs": [
    {
     "data": {
      "image/png": "[encoded data removed]",
      "text/plain": [
       "<Figure size 640x480 with 1 Axes>"
      ]
     },
     "metadata": {},
     "output_type": "display_data"
    }
   ],
   "source": [
    "device_checkout_rate = df.groupby(\"device\")[\"checkout_status\"].mean()\n",
    "\n",
    "plt.bar(device_checkout_rate.index, device_checkout_rate.values)\n",
    "plt.xlabel(\"Device\")\n",
    "plt.ylabel(\"Checkout Rate\")\n",
    "plt.title(\"Checkout Rate by Device\")\n",
    "plt.show()\n"
   ]
  },
  {
   "attachments": {},
   "cell_type": "markdown",
   "metadata": {},
   "source": [
    "There is not much difference but desktop users have slightly higher checkout rate than mobile and tablet users"
   ]
  },
  {
   "cell_type": "code",
   "execution_count": 60,
   "metadata": {},
   "outputs": [
    {
     "data": {
      "image/png": "[encoded data removed]",
      "text/plain": [
       "<Figure size 640x480 with 1 Axes>"
      ]
     },
     "metadata": {},
     "output_type": "display_data"
    }
   ],
   "source": [
    "location_checkout_rate = df.groupby(\"location\")[\"checkout_status\"].mean()\n",
    "\n",
    "plt.bar(location_checkout_rate.index, location_checkout_rate.values)\n",
    "plt.xlabel(\"Location\")\n",
    "plt.ylabel(\"Checkout Rate\")\n",
    "plt.title(\"Checkout Rate by Location\")\n",
    "plt.show()"
   ]
  },
  {
   "attachments": {},
   "cell_type": "markdown",
   "metadata": {},
   "source": [
    "There is not much difference but Location 1 and Location 4 have slightly higher checkout rates"
   ]
  },
  {
   "cell_type": "code",
   "execution_count": 61,
   "metadata": {},
   "outputs": [
    {
     "data": {
      "image/png": "[encoded data removed]",
      "text/plain": [
       "<Figure size 640x480 with 1 Axes>"
      ]
     },
     "metadata": {},
     "output_type": "display_data"
    }
   ],
   "source": [
    "\n",
    "\n",
    "session_count_checkout_rate = df.groupby(\"sessions\")[\"checkout_status\"].mean()\n",
    "\n",
    "plt.bar(session_count_checkout_rate.index, session_count_checkout_rate.values)\n",
    "plt.xlabel(\"Session Count\")\n",
    "plt.ylabel(\"Checkout Rate\")\n",
    "plt.title(\"Checkout Rate by Session Count\")\n",
    "plt.show()\n"
   ]
  },
  {
   "attachments": {},
   "cell_type": "markdown",
   "metadata": {},
   "source": [
    "Session count between 4 and 6 have slightly higher checkout rate"
   ]
  },
  {
   "cell_type": "code",
   "execution_count": 64,
   "metadata": {},
   "outputs": [
    {
     "data": {
      "image/png": "[encoded data removed]",
      "text/plain": [
       "<Figure size 640x480 with 1 Axes>"
      ]
     },
     "metadata": {},
     "output_type": "display_data"
    }
   ],
   "source": [
    "\n",
    "\n",
    "plt.hist(df[\"time_spent\"],bins=10)\n",
    "plt.xlabel(\"Time Spent\")\n",
    "plt.ylabel(\"Frequency\")\n",
    "plt.title(\"Time Spent Distribution\")\n",
    "plt.show()\n"
   ]
  },
  {
   "attachments": {},
   "cell_type": "markdown",
   "metadata": {},
   "source": [
    "This histogram shows that there is a clear peak when time spent is between 20 to 30 minutes"
   ]
  },
  {
   "cell_type": "code",
   "execution_count": 65,
   "metadata": {},
   "outputs": [
    {
     "data": {
      "image/png": "[encoded data removed]",
      "text/plain": [
       "<Figure size 640x480 with 1 Axes>"
      ]
     },
     "metadata": {},
     "output_type": "display_data"
    }
   ],
   "source": [
    "time_spent_checkout_rate = df.groupby(\"time_spent_group\")[\"checkout_status\"].mean()\n",
    "\n",
    "plt.plot(time_spent_checkout_rate.index, time_spent_checkout_rate.values, marker='o')\n",
    "plt.xlabel(\"Time Spent Group\")\n",
    "plt.ylabel(\"Checkout Rate\")\n",
    "plt.title(\"Checkout Rate by Time Spent\")\n",
    "plt.show()"
   ]
  },
  {
   "attachments": {},
   "cell_type": "markdown",
   "metadata": {},
   "source": [
    "Here, we can clearly see that time spent is directly related to the checkout rate. The line stays flat but shoots up when time spent is more than 20 minutes. "
   ]
  },
  {
   "cell_type": "code",
   "execution_count": 67,
   "metadata": {},
   "outputs": [
    {
     "data": {
      "image/png": "[encoded data removed]",
      "text/plain": [
       "<Figure size 640x480 with 1 Axes>"
      ]
     },
     "metadata": {},
     "output_type": "display_data"
    }
   ],
   "source": [
    "sns.boxplot(x=df[\"checkout_status\"], y=df[\"pages_visited\"])\n",
    "plt.xlabel(\"Checkout Status\")\n",
    "plt.ylabel(\"Pages Visited\")\n",
    "plt.title(\"Pages Visited by Checkout Status\")\n",
    "plt.show()\n"
   ]
  },
  {
   "attachments": {},
   "cell_type": "markdown",
   "metadata": {},
   "source": [
    "Here, we can see that the mean pages visited when higher leads to positive checkout status"
   ]
  },
  {
   "cell_type": "code",
   "execution_count": 69,
   "metadata": {},
   "outputs": [
    {
     "data": {
      "image/png": "[encoded data removed]",
      "text/plain": [
       "<Figure size 640x480 with 1 Axes>"
      ]
     },
     "metadata": {},
     "output_type": "display_data"
    }
   ],
   "source": [
    "sns.boxplot(x=df[\"checkout_status\"], y=df[\"cart_value\"])\n",
    "plt.xlabel(\"Checkout Status\")\n",
    "plt.ylabel(\"Cart Value\")\n",
    "plt.title(\"Cart Value by Checkout Status\")\n",
    "plt.show()\n"
   ]
  },
  {
   "attachments": {},
   "cell_type": "markdown",
   "metadata": {},
   "source": [
    "Here, we can see if the mean cart value is under 150, the checkout status is positive. However, there is not much difference here"
   ]
  },
  {
   "cell_type": "code",
   "execution_count": 71,
   "metadata": {},
   "outputs": [
    {
     "data": {
      "image/png": "[encoded data removed]",
      "text/plain": [
       "<Figure size 640x480 with 1 Axes>"
      ]
     },
     "metadata": {},
     "output_type": "display_data"
    }
   ],
   "source": [
    "# Define the age group bins and labels\n",
    "bins = [0, 18, 25, 35, 45, 55, 100]\n",
    "labels = [\"<18\", \"18-25\", \"26-35\", \"36-45\", \"46-55\", \"55+\"]\n",
    "\n",
    "# Create the age group column\n",
    "df['age_group'] = pd.cut(df['age'], bins=bins, labels=labels, right=False)\n",
    "\n",
    "# Calculate the checkout rate by age group\n",
    "age_group_checkout_rate = df.groupby(\"age_group\")[\"checkout_status\"].mean().reset_index()\n",
    "\n",
    "# Plot the checkout rate by age group\n",
    "sns.barplot(x=\"age_group\", y=\"checkout_status\", data=age_group_checkout_rate)\n",
    "plt.xlabel(\"Age Group\")\n",
    "plt.ylabel(\"Checkout Rate\")\n",
    "plt.title(\"Checkout Rate by Age Group\")\n",
    "plt.ylim(0, 1)  # Set y-axis limits from 0 to 1\n",
    "plt.show()"
   ]
  },
  {
   "attachments": {},
   "cell_type": "markdown",
   "metadata": {},
   "source": [
    "The checkout rate of different age groups does not differ a lot but the age group above 55+ has a slightly higher checkout rate"
   ]
  },
  {
   "cell_type": "code",
   "execution_count": 72,
   "metadata": {},
   "outputs": [
    {
     "name": "stdout",
     "output_type": "stream",
     "text": [
      "ANOVA:\n",
      "F-statistic: 27.399394267529548\n",
      "p-value: 1.722733947536755e-07\n"
     ]
    }
   ],
   "source": [
    "from scipy.stats import f_oneway, ttest_ind\n",
    "\n",
    "# ANOVA - Compare cart value across checkout status groups\n",
    "checkout_yes = df[df[\"checkout_status\"] == 1][\"cart_value\"]\n",
    "checkout_no = df[df[\"checkout_status\"] == 0][\"cart_value\"]\n",
    "f_stat, p_value_anova = f_oneway(checkout_yes, checkout_no)\n",
    "print(\"ANOVA:\")\n",
    "print(\"F-statistic:\", f_stat)\n",
    "print(\"p-value:\", p_value_anova)"
   ]
  },
  {
   "attachments": {},
   "cell_type": "markdown",
   "metadata": {},
   "source": [
    "Since the p-value is less than the typical significance level of 0.05, we can reject the null hypothesis and conclude that there is a significant difference in the cart value between the checkout status groups. In other words, the cart value varies significantly depending on whether users checked out or not."
   ]
  },
  {
   "cell_type": "code",
   "execution_count": 73,
   "metadata": {},
   "outputs": [
    {
     "name": "stdout",
     "output_type": "stream",
     "text": [
      "Independent t-test:\n",
      "t-statistic: -5.23444307138109\n",
      "p-value: 1.7227339475380058e-07\n"
     ]
    }
   ],
   "source": [
    "t_stat, p_value_ttest = ttest_ind(checkout_yes, checkout_no)\n",
    "print(\"Independent t-test:\")\n",
    "print(\"t-statistic:\", t_stat)\n",
    "print(\"p-value:\", p_value_ttest)"
   ]
  },
  {
   "cell_type": "code",
   "execution_count": 74,
   "metadata": {},
   "outputs": [
    {
     "name": "stdout",
     "output_type": "stream",
     "text": [
      "ANOVA - Checkout Rate by Location:\n",
      "F-statistic: 0.5738689541393264\n",
      "p-value: 0.6816052742329441\n"
     ]
    }
   ],
   "source": [
    "checkout_by_location = df.groupby(\"location\")[\"checkout_status\"].mean()\n",
    "f_stat_location, p_value_location = f_oneway(df[df[\"location\"] == \"Location 1\"][\"checkout_status\"],\n",
    "                                             df[df[\"location\"] == \"Location 2\"][\"checkout_status\"],\n",
    "                                             df[df[\"location\"] == \"Location 3\"][\"checkout_status\"],\n",
    "                                             df[df[\"location\"] == \"Location 4\"][\"checkout_status\"],\n",
    "                                             df[df[\"location\"] == \"Location 5\"][\"checkout_status\"])\n",
    "print(\"ANOVA - Checkout Rate by Location:\")\n",
    "print(\"F-statistic:\", f_stat_location)\n",
    "print(\"p-value:\", p_value_location)"
   ]
  },
  {
   "attachments": {},
   "cell_type": "markdown",
   "metadata": {},
   "source": [
    "Since the p-value is greater than the typical significance level of 0.05, we fail to reject the null hypothesis. This suggests that there is insufficient evidence to conclude that the location has a significant effect on the checkout rate."
   ]
  },
  {
   "cell_type": "code",
   "execution_count": 75,
   "metadata": {},
   "outputs": [
    {
     "name": "stdout",
     "output_type": "stream",
     "text": [
      "Independent t-test - Time Spent:\n",
      "t-statistic: 30.271596781650185\n",
      "p-value: 6.131767078697954e-185\n"
     ]
    }
   ],
   "source": [
    "time_spent_yes = df[df[\"checkout_status\"] == 1][\"time_spent\"]\n",
    "time_spent_no = df[df[\"checkout_status\"] == 0][\"time_spent\"]\n",
    "t_stat_time, p_value_time = ttest_ind(time_spent_yes, time_spent_no)\n",
    "print(\"Independent t-test - Time Spent:\")\n",
    "print(\"t-statistic:\", t_stat_time)\n",
    "print(\"p-value:\", p_value_time)"
   ]
  },
  {
   "attachments": {},
   "cell_type": "markdown",
   "metadata": {},
   "source": [
    "Since the p-value is very small (much less than 0.05), we reject the null hypothesis and conclude that there is a significant difference in the time spent between customers who checked out and those who did not.\n",
    "\n",
    "This suggests that the time spent on the website may have an impact on the checkout behavior. Through the visualisations that we have done before we can say that more time spent results in positive checkout status"
   ]
  },
  {
   "attachments": {},
   "cell_type": "markdown",
   "metadata": {},
   "source": [
    "1) Based on your analysis, what can you conclude about the behaviour or characteristics of users who complete check out vs those who do not?\n",
    "\n",
    "Based on the analysis conducted, we can draw the following conclusions about the behavior or characteristics of users who complete checkout compared to those who do not:\n",
    "\n",
    "Device: The checkout rate varies slightly across different devices, with desktop users having a slightly higher checkout rate compared to mobile and tablet users.\n",
    "\n",
    "Location: There is no significant difference in the checkout rate based on the user's location. All locations have similar checkout rates.\n",
    "\n",
    "Session Count: Users with higher session counts (more visits) tend to have a slightly higher checkout rate compared to those with lower session counts.\n",
    "\n",
    "Time Spent: Users who spend more time on the website have a significantly higher checkout rate compared to those who spend less time. Spending a substantial amount of time on the website appears to positively influence the likelihood of checking out.\n",
    "\n",
    "Age: The checkout rate of different age groups does not differ a lot but the age group above 55+ has a slightly higher checkout rate.\n",
    "\n",
    "Cart Value: Users with higher cart values have a significantly higher checkout rate compared to those with lower cart values. The cart value seems to be positively associated with the likelihood of checking out.\n",
    "\n",
    "Pages Visited: The mean pages visited when higher leads to positive checkout status. \n",
    "\n",
    "Overall, users who spend more time on the website, have higher cart values, and engage in multiple sessions are more likely to complete the checkout process. There is further testing that can be done on this dataset for a clearer picture but for the purpose of this project, this level of analysis should provide some insights into what actions can be taken by the company to ensure higher checkout rate"
   ]
  },
  {
   "attachments": {},
   "cell_type": "markdown",
   "metadata": {},
   "source": [
    "2. How did you prepare your data for analysis? Describe your data cleaning and preparation approaches, and why these were the best choices.\n",
    "\n",
    "Handling missing values: Missing values can introduce bias and affect the analysis. In this dataset, there were missing values in the \"location\" and \"device\" columns. For the \"location\" column, two potential approaches were considered - imputing with a specific value (e.g., \"Other\") or using the mode value. The decision to impute missing values with the mode (\"Location 4\") was made to maintain the distribution of the data and ensure a more complete dataset for analysis. Similarly, missing values in the \"device\" column were imputed with the mode value (\"Desktop\") as it was the most common device type in the dataset.\n",
    "\n",
    "Outlier detection and removal: Outliers can skew the distribution of data and impact statistical measures and analysis results. By using boxplots, outliers in columns with numeric values were identified. Removing outliers helps ensure that the remaining data represents a more accurate and typical distribution, improving the reliability of the analysis.\n",
    "\n",
    "Removing duplicate entries: Duplicate entries provide redundant information and can bias the analysis. By removing duplicate entries, we eliminate any potential duplication of observations, ensuring that each data point is unique and independent. This helps prevent any distortions or biases that duplicates may introduce and ensures the integrity of the analysis.\n",
    "\n",
    "Overall, these data cleaning and preparation approaches were chosen to enhance the quality and reliability of the dataset for analysis. By addressing missing values, outliers, and duplicates, we aim to minimize potential biases, improve the accuracy of statistical measures, and ensure that the conclusions drawn from the analysis are based on a representative and reliable dataset."
   ]
  },
  {
   "attachments": {},
   "cell_type": "markdown",
   "metadata": {},
   "source": [
    "3) What recommendations do you have for the product team? What should they do next? Be specific (i.e., who should they target, why and how).\n",
    "\n",
    "Based on the analysis conducted, here are some specific recommendations for the product team to improve the checkout rate:\n",
    "\n",
    "Target Desktop Users: Since desktop users have a slightly higher checkout rate compared to mobile and tablet users, the product team should focus on optimizing the checkout process for desktop users. This can involve improving the user experience, streamlining the checkout flow, and ensuring that the website is fully responsive and optimized for desktop devices.\n",
    "\n",
    "Increase the amount of time users spend on website: Users who spend more time on the website and engage in multiple sessions have a higher likelihood of checking out. To increase user engagement, the product team can implement strategies such as personalized recommendations, targeted promotions, and interactive features that encourage users to explore more pages and spend more time on the website.\n",
    "\n",
    "Focus more on tablet and mobile users: Although mobile and tablet users have a slightly lower checkout rate, they still constitute a significant portion of the user base. The product teamm should focus here and see how they can make these users spend more time on the platform as that might lead to a higher checkout rate\n",
    "\n",
    "Target Users with High Cart Values: Users with higher cart values show a s higher checkout rate. The product team can nudge the consumers to add more items in their carts. Since there might be correlation here, it would be beneficial\n",
    "\n",
    "Focus on above 55 age group: This age group has a higher checkout rate and that means if more people of this age group visit the website, ther is a high chance of positive chechout status. The product team should incentivise this age group through senior's discounts or work with the marketing team to bring more people of this age group to the platform.\n",
    "\n",
    "Pages Visited: The product team should focus on users who visit a lot of pages as there is a positive correlation with checkout rate.\n",
    "\n",
    "Conduct A/B Testing: Implement A/B testing to evaluate the impact of specific changes or optimizations on the checkout rate. Test different variations of the checkout process, user interface elements, and promotional strategies to determine which approaches yield the highest conversion rates. This iterative testing approach will help the product team refine their strategies and make data-driven decisions to improve the checkout rate.\n",
    "\n",
    "By implementing all of the above, the product team can work towards increasing the checkout rate and driving higher conversions on the e-commerce platform."
   ]
  }
 ],
 "metadata": {
  "kernelspec": {
   "display_name": "Python 3",
   "language": "python",
   "name": "python3"
  },
  "language_info": {
   "codemirror_mode": {
    "name": "ipython",
    "version": 3
   },
   "file_extension": ".py",
   "mimetype": "text/x-python",
   "name": "python",
   "nbconvert_exporter": "python",
   "pygments_lexer": "ipython3",
   "version": "3.11.3"
  },
  "orig_nbformat": 4
 },
 "nbformat": 4,
 "nbformat_minor": 2
}
