{
 "cells": [
  {
   "cell_type": "code",
   "execution_count": 1,
   "metadata": {},
   "outputs": [],
   "source": [
    "import numpy as np\n",
    "import pandas as pd\n",
    "import matplotlib.pyplot as plt\n",
    "import seaborn as sns"
   ]
  },
  {
   "cell_type": "code",
   "execution_count": 2,
   "metadata": {},
   "outputs": [],
   "source": [
    "list1 = [1,89,87,65,34,98,87,65]"
   ]
  },
  {
   "cell_type": "code",
   "execution_count": 3,
   "metadata": {},
   "outputs": [
    {
     "data": {
      "text/plain": [
       "65.75"
      ]
     },
     "execution_count": 3,
     "metadata": {},
     "output_type": "execute_result"
    }
   ],
   "source": [
    "def mean(x):\n",
    "    return sum(x)/len(x)\n",
    "\n",
    "mean(list1)"
   ]
  },
  {
   "cell_type": "code",
   "execution_count": 5,
   "metadata": {},
   "outputs": [
    {
     "data": {
      "text/plain": [
       "76.0"
      ]
     },
     "execution_count": 5,
     "metadata": {},
     "output_type": "execute_result"
    }
   ],
   "source": [
    "def median(x):\n",
    "    x.sort()\n",
    "    if len(x)%2 == 0:\n",
    "        med = (x[(len(x)//2)]+x[(len(x)//2)-1])/2\n",
    "    else:\n",
    "        med = x[len(x)//2]\n",
    "\n",
    "    return med\n",
    "\n",
    "median(list1)"
   ]
  },
  {
   "cell_type": "code",
   "execution_count": 6,
   "metadata": {},
   "outputs": [
    {
     "data": {
      "text/plain": [
       "76.0"
      ]
     },
     "execution_count": 6,
     "metadata": {},
     "output_type": "execute_result"
    }
   ],
   "source": [
    "def median(x):\n",
    "    sorted(x) #works on a sequential object\n",
    "    if len(x)%2 == 0:\n",
    "        med = (x[(len(x)//2)]+x[(len(x)//2)-1])/2\n",
    "    else:\n",
    "        med = x[len(x)//2]\n",
    "\n",
    "    return med\n",
    "\n",
    "median(list1)"
   ]
  },
  {
   "cell_type": "code",
   "execution_count": 8,
   "metadata": {},
   "outputs": [
    {
     "data": {
      "text/plain": [
       "[65, 87]"
      ]
     },
     "execution_count": 8,
     "metadata": {},
     "output_type": "execute_result"
    }
   ],
   "source": [
    "def mode(x):\n",
    "    freq_dict = {}\n",
    "    for i in x:\n",
    "        if i in freq_dict:\n",
    "            freq_dict[i] += 1\n",
    "        else:\n",
    "            freq_dict[i] = 1\n",
    "\n",
    "    # Find the mode(s)\n",
    "    max_freq = max(freq_dict.values())\n",
    "    modes = [k for k, v in freq_dict.items() if v == max_freq]\n",
    "    \n",
    "    return modes\n",
    "\n",
    "mode(list1)"
   ]
  },
  {
   "cell_type": "code",
   "execution_count": 9,
   "metadata": {},
   "outputs": [
    {
     "data": {
      "text/plain": [
       "[1, 65, 87, 89]"
      ]
     },
     "execution_count": 9,
     "metadata": {},
     "output_type": "execute_result"
    }
   ],
   "source": [
    "def iqr(x):\n",
    "    x.sort()\n",
    "    first_quartile_val = min(x)\n",
    "    second_quartile_val = x[len(x)//4]\n",
    "    third_quartile_val = x[(len(x)//4) * 2]\n",
    "    fourth_quartile_val = x[(len(x)//4) * 3]\n",
    "    list_quartiles = [first_quartile_val, second_quartile_val, third_quartile_val, fourth_quartile_val]\n",
    "\n",
    "    return list_quartiles\n",
    "\n",
    "iqr(list1)"
   ]
  },
  {
   "cell_type": "code",
   "execution_count": 10,
   "metadata": {},
   "outputs": [
    {
     "name": "stdout",
     "output_type": "stream",
     "text": [
      "24\n"
     ]
    }
   ],
   "source": [
    "iqr_range = iqr(list1)[-1] - iqr(list1)[1]\n",
    "print(iqr_range)"
   ]
  },
  {
   "cell_type": "code",
   "execution_count": null,
   "metadata": {},
   "outputs": [],
   "source": []
  }
 ],
 "metadata": {
  "kernelspec": {
   "display_name": "Python 3",
   "language": "python",
   "name": "python3"
  },
  "language_info": {
   "codemirror_mode": {
    "name": "ipython",
    "version": 3
   },
   "file_extension": ".py",
   "mimetype": "text/x-python",
   "name": "python",
   "nbconvert_exporter": "python",
   "pygments_lexer": "ipython3",
   "version": "3.11.3"
  },
  "orig_nbformat": 4
 },
 "nbformat": 4,
 "nbformat_minor": 2
}
